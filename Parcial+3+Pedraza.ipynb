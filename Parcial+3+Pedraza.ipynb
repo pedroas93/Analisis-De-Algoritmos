{
 "cells": [
  {
   "cell_type": "markdown",
   "metadata": {},
   "source": [
    "# Parcial 2"
   ]
  },
  {
   "cell_type": "markdown",
   "metadata": {},
   "source": [
    "# PUNTO #1"
   ]
  },
  {
   "cell_type": "markdown",
   "metadata": {},
   "source": [
    "Describa un algoritmo que determine en tiempo O(n 2lg n) si existen tsol puntos colineales de un conjunto de n puntos dados.\n"
   ]
  },
  {
   "cell_type": "markdown",
   "metadata": {},
   "source": [
    "# Solución"
   ]
  },
  {
   "cell_type": "markdown",
   "metadata": {},
   "source": [
    "El cálculo de las pendientes de todos los segmens toma tiempo O (n 2). La clasificación de todos los arrays auxiliares toma tiempo O (n 2 · log n). En las líneas (11) a (19), la única acción no trivial es realizar la búsqueda binaria y, por lo tanto, estas líneas pueden implementarse en el tiempo O (n 2 log n). Se deduce que el algoritmo (1.1) toma O (n 2 · log n) en el peor de los casos."
   ]
  },
  {
   "cell_type": "code",
   "execution_count": 3,
   "metadata": {
    "collapsed": true
   },
   "outputs": [],
   "source": [
    "import numpy as np"
   ]
  },
  {
   "cell_type": "code",
   "execution_count": 7,
   "metadata": {
    "collapsed": false
   },
   "outputs": [],
   "source": [
    "def lineal(puntosC):\n",
    "    \n",
    "    tam=len(puntosC)\n",
    "    arregloM=np.zeros((tam,tam))\n",
    "    \n",
    "    for i in range(tam):\n",
    "        for j in range(tam):\n",
    "            if i!=j:\n",
    "                if puntosC[j][0]-puntosC[i][0]!=0:\n",
    "                    arregloM[i][j]=(puntosC[j][1]-puntosC[i][1])/(puntosC[j][0]-puntosC[i][0])\n",
    "                else:\n",
    "                    arregloM[i][j]=-float(999999)\n",
    "            else:\n",
    "                arregloM[i][j]=-float(999999)\n",
    "\n",
    "    dict={}\n",
    "    for i in range(tam):\n",
    "        for j in range(tam):\n",
    "            if i!=j:\n",
    "                if arregloM[i][j]!=-float(999999):\n",
    "                    if (dict.get(arregloM[i][j])):\n",
    "                        \n",
    "                        return True\n",
    "                    else:\n",
    "                        dict[arregloM[i][j]]=1\n",
    "        dict.clear()\n",
    "    return False"
   ]
  },
  {
   "cell_type": "code",
   "execution_count": 8,
   "metadata": {
    "collapsed": false
   },
   "outputs": [
    {
     "name": "stdout",
     "output_type": "stream",
     "text": [
      "No es colineal\n"
     ]
    }
   ],
   "source": [
    "arreglo=[]\n",
    "vect1 = [0.,0.]\n",
    "arreglo.append(vect1)\n",
    "vect2 = [300.,300.]\n",
    "arreglo.append(vect2)\n",
    "vect3 = [100.,500.]\n",
    "arreglo.append(vect3)\n",
    "solpuesta=lineal(arreglo)\n",
    "\n",
    "if solpuesta:\n",
    "    print ('Es colineal')\n",
    "else:\n",
    "    print ('No es colineal')"
   ]
  },
  {
   "cell_type": "markdown",
   "metadata": {},
   "source": [
    "Fuente: https://pdfs.semanticscholar.org/69c4/735f25ba29cc6a1d68aa5f980c7c3e5b0e76.pdf"
   ]
  },
  {
   "cell_type": "markdown",
   "metadata": {},
   "source": [
    "# PUNTO #2\n"
   ]
  },
  {
   "cell_type": "markdown",
   "metadata": {},
   "source": [
    "Disenie un algoritmo que en tiempo O(n lg n) pueda determinar si un poligono definido por una secuencaux1 de n puntos es simple (sus segmens no se banderasectan entre si).\n"
   ]
  },
  {
   "cell_type": "markdown",
   "metadata": {},
   "source": [
    "# Solución"
   ]
  },
  {
   "cell_type": "markdown",
   "metadata": {},
   "source": [
    "Un polígono no es simple si y solo si dos de sus lados intersectan; de esto obtenemos que:\n",
    "\n",
    "===> Test de Simplicidad µ Test de Intersección de segmens.\n",
    "\n",
    "Algoritmos de Intersección de segmens\n",
    "\n",
    "Suponemos que tenemos N intervalos en la recta real y deseamos saber si dos de ellos se solapan. Esto se puede resolver en tiempo O(N2) comprobando todos los pares de intervalos dos a dos, esta forma inmediata es mejorable: ordenamos los 2N puntos finales de los intervalos y los designamos si están a la derecha o a izquierda. Los intervalos serán disjuntos si y solo si la serie es alternada es de la forma:\n",
    "\n",
    "L R L ... L R\n",
    "\n",
    "Esto puede conseguirse en tiempo O (N Log N).\n",
    "\n",
    "La cuestión que nos ocupa es saber si el algoritmo es o no implementable y si se puede ampliar a 2-dimensiones.\n",
    "\n",
    "La técnica que se usará será la de barrido: Con una línea de barrido del plano, haremos un barrido de izquierda a derecha. Antes daremos algunas definiciones. Considerando dos segmens que no intersectan, s1 y s2, decimos que son comparables en la abcisa X si existe una línea vertical, x, que intersecte con ambos segmens. La relación de orden que definimos, la denotaremos por >X y diremos que s1 está sobre s2 (s1>Xs2) si ambos son comparables en x y la intersección de s1 con la vértical cae sobre la intersección de s2 con esa misma línea.\n",
    "\n",
    "La línea de barrido parará en los siguientes casos:\n",
    "\n",
    "Encontramos un punto inicial del segmen S, a la izquierda. En este caso dicho segmen es añadido a la lista\n",
    "Encontramos el punto final de S, el extremo derecho. En este caso S se elimina porque no será comparable con ningún otro segmen.\n",
    "Encontramos un punto de intersección entre s1 y s2. Nos damos cuenta ya que cambia su orden en la lista.\n",
    "\n",
    "Con esto vemos que una condición necesaria para que s1 y s2 intersecten es que ambos sean consecutivos según el orden establecido.\n",
    "\n",
    "Teorema: (Bentley-Ottmann, 1979) Las k intersecciones de un conjunto de N segmens pueden ser encontradas en un tiempo O ((N+k) Log N)\n",
    "\n",
    "Se puede simplificar el problema a preguntarnos si dado un conjunto de N segmens hay dos de ellos que intersectan.\n",
    "\n",
    "Teorema. El tiempo en realizar esto es de O(N Log N), y este tiempo es óptimo. \n"
   ]
  },
  {
   "cell_type": "code",
   "execution_count": 16,
   "metadata": {
    "collapsed": false
   },
   "outputs": [],
   "source": [
    "class segmensC:\n",
    "    def  __init__(self,x,y):\n",
    "        self.x = x;\n",
    "        self.y = y;"
   ]
  },
  {
   "cell_type": "code",
   "execution_count": 33,
   "metadata": {
    "collapsed": true
   },
   "outputs": [],
   "source": [
    "def interseccion(p1,p2,p3,p4):\n",
    "    \n",
    "    if(p2[0] - p1[0] == 0 ):\n",
    "        s1 = ( p2 [0] - p1 [0] )/( p2 [1] - p1 [1] )\n",
    "        \n",
    "    else:\n",
    "        s1=(p2[1] - p1[1])/(p2[0] - p1[0])\n",
    "        \n",
    "    if(p4[0] - p3[0] == 0):\n",
    "        s2=(p4[0] - p3[0])/(p4[1] - p3[1])\n",
    "        \n",
    "    else:\n",
    "        s2=(p4[1] - p3[1])/(p4[0] - p3[0])\n",
    "        \n",
    "    ss1 = p1[1] - ( s1 * p1[0] )\n",
    "    ss2 = p3[1] - ( s2 * p3[0] )\n",
    "    \n",
    "    if(s1-s2!=0):\n",
    "        z=(s2 - ss1)/(s1 - s2)\n",
    "        w=(s1 * z) + ss1\n",
    "        return z,w\n",
    "        \n",
    "    else:\n",
    "        return -10,-10\n",
    "\n",
    "def simple(poligono):\n",
    "\n",
    "    segmentos=[]\n",
    "    simple=1;\n",
    "    \n",
    "    for p in range(len(poligono) - 1):\n",
    "        segmento = segmentosC(poligono[p],poligono[p + 1]);\n",
    "        segmentos.append(segmento)\n",
    "        \n",
    "    segmento= segmentosC(poligono[0], poligono[len(poligono) - 1])\n",
    "    segmentos.append(segmento)    \n",
    "\n",
    "    for l in range(len(segmentos)-1):\n",
    "        s1=segmentos[l]\n",
    "        p1 = s1.x\n",
    "        p2 = s1.y\n",
    "        for l1 in range(l + 1, len(segmentos) - 1):\n",
    "            s2= segmentos[l1]\n",
    "            p3= s2.x\n",
    "            p4= s2.y\n",
    "            z,w = interseccion(p1,p2,p3,p4)\n",
    "            if(z!= -10):\n",
    "                pp=[z,w]\n",
    "                if(p2 == pp or p1 == pp or p4 == pp):\n",
    "                    simple=1\n",
    "                else:\n",
    "                    return False\n",
    "    if(simple == 1):\n",
    "        return True;\n",
    " \n",
    "   "
   ]
  },
  {
   "cell_type": "code",
   "execution_count": 34,
   "metadata": {
    "collapsed": false
   },
   "outputs": [
    {
     "name": "stdout",
     "output_type": "stream",
     "text": [
      "False\n"
     ]
    }
   ],
   "source": [
    "p1=[0,0]\n",
    "p2=[2,2]\n",
    "p3=[3,1]\n",
    "p4=[0.5,1]\n",
    "poligono=[p1,p2,p3,p4]\n",
    "print (simple(poligono))"
   ]
  },
  {
   "cell_type": "markdown",
   "metadata": {},
   "source": [
    "Fuente: https://personal.us.es/almar/docencaux1/practicas/joines/tema6.html"
   ]
  }
 ],
 "metadata": {
  "kernelspec": {
   "display_name": "Python 2",
   "language": "python",
   "name": "python2"
  },
  "language_info": {
   "codemirror_mode": {
    "name": "ipython",
    "version": 2
   },
   "file_extension": ".py",
   "mimetype": "text/x-python",
   "name": "python",
   "nbconvert_exporter": "python",
   "pygments_lexer": "ipython2",
   "version": "2.7.13"
  }
 },
 "nbformat": 4,
 "nbformat_minor": 2
}
