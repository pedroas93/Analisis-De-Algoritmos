{
 "cells": [
  {
   "cell_type": "markdown",
   "metadata": {},
   "source": [
    "# Entrega final "
   ]
  },
  {
   "cell_type": "markdown",
   "metadata": {},
   "source": [
    "Presentado por: Andrea Bayona y David Pedraza"
   ]
  },
  {
   "cell_type": "markdown",
   "metadata": {},
   "source": [
    "(LP) Suponga que se planea contruir una nueva cadena de tiendas en una ciudad dada, usted tiene identificado una serie de ubicaciones potenciales en diferentes cuadras. Además asuma que la demanda de productos en cada cuadra de la ciudad es conocida. Si usted quiere construir exactamente k tiendas,  ¿dónde debería localizarlas de forma que minimice la distancia promedio de los clientes? ¿Si en lugar usted dese construir una cantidad variable de tiendas, y el costo de construir una tienda en cada sitio es conocido, ¿dónde debería construir las tiendas de forma que minimice el costo total del construcción y la distancia promedio de los clientes?"
   ]
  },
  {
   "cell_type": "code",
   "execution_count": 170,
   "metadata": {
    "collapsed": true
   },
   "outputs": [],
   "source": [
    "import math\n",
    "import numpy as np\n",
    "import pylab as pl\n",
    "import random as rnd\n",
    "import time\n",
    "from collections import defaultdict\n",
    "import itertools\n",
    "%matplotlib inline"
   ]
  },
  {
   "cell_type": "code",
   "execution_count": 171,
   "metadata": {
    "collapsed": true
   },
   "outputs": [],
   "source": [
    "def imprimirG(g):\n",
    "    sNodes = sorted(g.nodes, key=lambda node: node.name)\n",
    "    for node in sNodes:\n",
    "        print(node.name + \")\")\n",
    "        for edge in g.edges[node]:\n",
    "            print(edge)\n",
    "            print(g.distances[node,edge])\n"
   ]
  },
  {
   "cell_type": "code",
   "execution_count": 172,
   "metadata": {
    "collapsed": true
   },
   "outputs": [],
   "source": [
    "def floyd_warshall(g):\n",
    "    \n",
    "    m = [[float('inf')] * len(g.nodes) for i in range(len(g.nodes))]\n",
    "    sNodes = sorted(g.nodes, key=lambda node: node.name) \n",
    "    for i, x in enumerate(sNodes):\n",
    "        for j, y in enumerate(sNodes):\n",
    "            if x == y:\n",
    "                m[i][j] = 0\n",
    "            else:\n",
    "                if x in g.edges[y]:\n",
    "                    m[i][j] = g.distances[(x,y)]\n",
    "\n",
    "  \n",
    "    for k in range(len(sNodes)):\n",
    "        for i in range(len(sNodes)):\n",
    "            for j in range(len(sNodes)):\n",
    "                m[i][j] = min(m[i][j], m[i][k] + m[k][j])\n",
    "    return m\n"
   ]
  },
  {
   "cell_type": "code",
   "execution_count": 161,
   "metadata": {
    "collapsed": true
   },
   "outputs": [],
   "source": [
    "def adyacente(g):\n",
    "   \n",
    "    m = [[float('inf')] * len(g.nodes) for i in range(len(g.nodes))]\n",
    "    sNodes = sorted(g.nodes, key=lambda node: node.name)\n",
    "    for i, x in enumerate(sNodes):\n",
    "        for j, y in enumerate(sNodes):\n",
    "            if x == y:\n",
    "                m[i][j] = 0\n",
    "            else:\n",
    "                if x in g.edges[y]:\n",
    "                    m[i][j] = g.distances[(x,y)]\n",
    "    \n",
    "    return m"
   ]
  },
  {
   "cell_type": "code",
   "execution_count": 162,
   "metadata": {
    "collapsed": true
   },
   "outputs": [],
   "source": [
    "def sumarArray(a):\n",
    "    sums = 0\n",
    "    for element in a:\n",
    "        sums += element\n",
    "    return sums"
   ]
  },
  {
   "cell_type": "code",
   "execution_count": 163,
   "metadata": {
    "collapsed": true
   },
   "outputs": [],
   "source": [
    "def loadGrafo(filename):\n",
    "    file = open(filename, \"r\") \n",
    "    k = int(file.readline())    \n",
    "    line = file.readline()\n",
    "    values = line.split()\n",
    "    graph = Graph()\n",
    "    \n",
    "    bar = []\n",
    "    while line:\n",
    "        barrio = Barrio(values[0], 0)\n",
    "        bar.append(barrio)\n",
    "        graph.add_node(barrio)\n",
    "        \n",
    "        for i in range(1, len(values)):\n",
    "            index = i-1\n",
    "            sNodes = sorted(graph.nodes, key=lambda node: node.name)\n",
    "            if len(sNodes) > index:\n",
    "                barrio2 = sNodes[index]\n",
    "                if barrio != barrio2:\n",
    "                    graph.add_edge(barrio, barrio2, int(values[i]))\n",
    "                \n",
    "        line = file.readline()\n",
    "        values = line.split()\n",
    "    \n",
    "    file.close\n",
    "    \n",
    "    return graph, k"
   ]
  },
  {
   "cell_type": "code",
   "execution_count": 164,
   "metadata": {
    "collapsed": true
   },
   "outputs": [],
   "source": [
    "def noCosto(filename):\n",
    "   \n",
    "    g, k = loadGrafo(filename)\n",
    "    \n",
    "    adyacente_matrix = adyacente(g)\n",
    "    matrix = floyd_warshall(g)\n",
    "\n",
    "    sNodes = sorted(g.nodes, key=lambda node: node.name) \n",
    "   \n",
    "    combinations = itertools.combinations(sNodes, k)\n",
    "    combinationsList = [list(x) for x in combinations]\n",
    "\n",
    "    minCombination = []\n",
    "    minDistance = 999\n",
    "\n",
    "    for i in range(len(combinationsList)):\n",
    "        combination = combinationsList[i]\n",
    "        distances = np.tile(999, len(sNodes))\n",
    "        for node in combination:\n",
    "            row = adyacente_matrix[sNodes.index(node)]\n",
    "            for j in range(len(distances)):\n",
    "                if distances[j] > row[j]:\n",
    "                    distances[j] = row[j]\n",
    "            if sumarArray(distances) <= minDistance:\n",
    "                minDistance = sumarArray(distances)\n",
    "                minCombination = combination\n",
    "\n",
    "    stores = \"\"\n",
    "    for i in range(len(minCombination)):\n",
    "        stores += minCombination[i].name\n",
    "        if i != len(minCombination)-1:\n",
    "            stores += \",\"\n",
    "\n",
    "    print(minDistance)\n",
    "    print(stores)"
   ]
  },
  {
   "cell_type": "code",
   "execution_count": 165,
   "metadata": {
    "collapsed": true
   },
   "outputs": [],
   "source": [
    "def leerGrafoC(filename):\n",
    "    file = open(filename, \"r\") \n",
    "    k = int(file.readline())    \n",
    "    line = file.readline()\n",
    "    values = line.split()\n",
    "    graph = Graph()\n",
    "    \n",
    "    bar = []\n",
    "    while line:\n",
    "        barrio = Barrio(values[0], int(values[1]))\n",
    "        bar.append(barrio)\n",
    "        graph.add_node(barrio)\n",
    "        \n",
    "        for i in range(2, len(values)):\n",
    "            index = i-2\n",
    "            sNodes = sorted(graph.nodes, key=lambda node: node.name) \n",
    "            if len(sNodes) > index:\n",
    "                barrio2 = sNodes[index]\n",
    "                if barrio != barrio2:\n",
    "                    graph.add_edge(barrio, barrio2, int(values[i]))\n",
    "                \n",
    "        line = file.readline()\n",
    "        values = line.split()\n",
    "    \n",
    "    file.close\n",
    "    \n",
    "    return graph, k"
   ]
  },
  {
   "cell_type": "code",
   "execution_count": 166,
   "metadata": {
    "collapsed": true
   },
   "outputs": [],
   "source": [
    "def siCosto(filename):\n",
    "    g, k = leerGrafoC(filename)\n",
    "    adyacente_matrix = adyacente(g)\n",
    "    matrix = floyd_warshall(g)\n",
    "\n",
    "    sNodes = sorted(g.nodes, key=lambda node: node.name)\n",
    "    combinations = itertools.combinations(sNodes, k)\n",
    "    combinationsList = [list(x) for x in combinations]\n",
    "\n",
    "    minCombination = []\n",
    "    minDistanceAndCost = 999\n",
    "    for i in range(len(combinationsList)):\n",
    "        combination = combinationsList[i]\n",
    "        distances = np.tile(999, len(sNodes))\n",
    "        cost  = 0\n",
    "        for node in combination:\n",
    "            cost += node.costoTienda\n",
    "            \n",
    "        for node in combination:\n",
    "            row = adyacente_matrix[sNodes.index(node)]\n",
    "            for j in range(len(distances)):\n",
    "                if distances[j] > row[j]:\n",
    "                    distances[j] = row[j]\n",
    "            if (sumarArray(distances) + cost) <= minDistanceAndCost:                  \n",
    "                minDistanceAndCost = sumarArray(distances) + cost\n",
    "                minCombination = combination\n",
    "\n",
    "    stores = \"\"\n",
    "    for i in range(len(minCombination)):\n",
    "        stores += minCombination[i].name\n",
    "        if i != len(minCombination)-1:\n",
    "            stores += \",\"\n",
    "\n",
    "    print(minDistanceAndCost)\n",
    "    print(stores)"
   ]
  },
  {
   "cell_type": "markdown",
   "metadata": {},
   "source": [
    "Casos de prueba"
   ]
  },
  {
   "cell_type": "code",
   "execution_count": 173,
   "metadata": {
    "collapsed": false
   },
   "outputs": [
    {
     "name": "stdout",
     "output_type": "stream",
     "text": [
      "50\n",
      "B\n"
     ]
    }
   ],
   "source": [
    "siCosto(\"input_n5_k1_c\")"
   ]
  },
  {
   "cell_type": "code",
   "execution_count": 174,
   "metadata": {
    "collapsed": false
   },
   "outputs": [
    {
     "name": "stdout",
     "output_type": "stream",
     "text": [
      "51\n",
      "B,C,D\n"
     ]
    }
   ],
   "source": [
    "siCosto(\"input_n5_k3_c\")"
   ]
  },
  {
   "cell_type": "code",
   "execution_count": 175,
   "metadata": {
    "collapsed": false
   },
   "outputs": [
    {
     "name": "stdout",
     "output_type": "stream",
     "text": [
      "28\n",
      "A\n"
     ]
    }
   ],
   "source": [
    "noCosto(\"input_n5_k1\")"
   ]
  },
  {
   "cell_type": "code",
   "execution_count": 176,
   "metadata": {
    "collapsed": false
   },
   "outputs": [
    {
     "name": "stdout",
     "output_type": "stream",
     "text": [
      "8\n",
      "A,C\n"
     ]
    }
   ],
   "source": [
    "noCosto(\"input_n5_k2\")"
   ]
  },
  {
   "cell_type": "code",
   "execution_count": 177,
   "metadata": {
    "collapsed": false
   },
   "outputs": [
    {
     "name": "stdout",
     "output_type": "stream",
     "text": [
      "28\n",
      "A\n"
     ]
    }
   ],
   "source": [
    "noCosto(\"input_n5_k1\")"
   ]
  },
  {
   "cell_type": "code",
   "execution_count": 178,
   "metadata": {
    "collapsed": false
   },
   "outputs": [
    {
     "name": "stdout",
     "output_type": "stream",
     "text": [
      "2\n",
      "B,C,D\n"
     ]
    }
   ],
   "source": [
    "noCosto(\"input_n5_k3\")"
   ]
  },
  {
   "cell_type": "markdown",
   "metadata": {},
   "source": [
    "Fuentes: https://gist.github.com/mmas/7129128"
   ]
  },
  {
   "cell_type": "markdown",
   "metadata": {},
   "source": [
    "# Algoritmo # 2"
   ]
  },
  {
   "cell_type": "markdown",
   "metadata": {},
   "source": [
    "(MST). Dado un grafo G = (V, E) con n vertices y m aristas. (El grafo podría representar una red telefónica). Cada arista es coloreada azul o roja. Tambien esta dado un parámetro k como parte de la entrada. Proponga un algoritmo que encuentre un árbol de expansión sobre G con exactamente k aristas azules, y exactamente n-k-1 aristas rojas. Determine el tiempo de ejecución del algoritmo y muestre que es correcto."
   ]
  },
  {
   "cell_type": "code",
   "execution_count": 73,
   "metadata": {
    "collapsed": true
   },
   "outputs": [],
   "source": [
    "parent = dict()\n",
    "rank = dict()\n",
    "\n",
    "def invariante(edges, i):\n",
    "    \n",
    "    aux=[]\n",
    "    \n",
    "    for edge in edges:\n",
    "        \n",
    "        peso, color, v1, v2 = edge\n",
    "        \n",
    "        if not(v1 in aux):\n",
    "            \n",
    "            aux.append(v1)\n",
    "            \n",
    "        if not(v2 in aux):\n",
    "            \n",
    "            aux.append(v2)\n",
    "            \n",
    "    if(len(aux)==(i+1)):\n",
    "        \n",
    "        return True\n",
    "    \n",
    "    else:\n",
    "        \n",
    "        return False"
   ]
  },
  {
   "cell_type": "code",
   "execution_count": 74,
   "metadata": {
    "collapsed": true
   },
   "outputs": [],
   "source": [
    "def verticesU(v1, v2):\n",
    "    var1 = find(v1)\n",
    "    var2 = find(v2)\n",
    "    if var1 != var2:\n",
    "        if rank[var1] > rank[var2]:\n",
    "            parent[var2] = var1\n",
    "        else:\n",
    "            parent[var1] = var2\n",
    "            if rank[var1] == rank[var2]: rank[var2] += 1"
   ]
  },
  {
   "cell_type": "code",
   "execution_count": 75,
   "metadata": {
    "collapsed": true
   },
   "outputs": [],
   "source": [
    "def periodo(g, aux, c, rec):\n",
    "    if aux in rec:\n",
    "        c[0]=True\n",
    "        return\n",
    "    rec.append(aux)\n",
    "    for edge in g:\n",
    "        peso, color, v1, v2 = edge\n",
    "        if v1==aux:\n",
    "            periodo(g, v2, c, rec)"
   ]
  },
  {
   "cell_type": "code",
   "execution_count": 76,
   "metadata": {
    "collapsed": false
   },
   "outputs": [],
   "source": [
    "def k_rb(graph, k):\n",
    "    x=k\n",
    "    y=0\n",
    "    for vertice in graph['vertices']:\n",
    "        parent[vertice] = vertice\n",
    "        rank[vertice] = 0\n",
    "\n",
    "    st = set()\n",
    "    edges = list(graph['edges'])\n",
    "    edges.sort()\n",
    "    try: \n",
    "        for edge in edges:\n",
    "            peso, color, v1, v2 = edge\n",
    "            if find(v1) != find(v2) and ((color==\"B\" and k>0) or color==\"R\"):\n",
    "                verticesU(v1, v2)\n",
    "                st.add(edge)\n",
    "                c=[]\n",
    "                c.append(False)\n",
    "                periodo(st,v1,c,[])\n",
    "                assert not c[0]\n",
    "               \n",
    "                if color==\"B\":                    \n",
    "                    k=k-1\n",
    "                    y=y+1\n",
    "       \n",
    "        assert invariante(edges, len(st))\n",
    "        we=0\n",
    "        for vert in st:\n",
    "            peso, color, v1, v2 = vert\n",
    "            we=int(peso)+we\n",
    "        return we, st\n",
    "    except  AssertionError:\n",
    "       \n",
    "        return set()"
   ]
  },
  {
   "cell_type": "code",
   "execution_count": 77,
   "metadata": {
    "collapsed": true
   },
   "outputs": [],
   "source": [
    "def find(vertice):\n",
    "    if parent[vertice] != vertice:\n",
    "        parent[vertice] = find(parent[vertice])\n",
    "    return parent[vertice]"
   ]
  },
  {
   "cell_type": "code",
   "execution_count": 78,
   "metadata": {
    "collapsed": true
   },
   "outputs": [],
   "source": [
    "def kruskal_rb():  \n",
    "    \n",
    "    inf = open(\"input_n8_b5_r2\")\n",
    "    \n",
    "    p=[]\n",
    "    \n",
    "    a=0\n",
    "    \n",
    "    linea=\"\"\n",
    "    \n",
    "    tam=\"\"\n",
    "    \n",
    "    k=\"\"\n",
    "    \n",
    "    \n",
    "    \n",
    "    for l in inf:\n",
    "            if a==0:\n",
    "                tam=l \n",
    "            elif a==1:\n",
    "                k=l\n",
    "            else:\n",
    "                linea=l\n",
    "                p.append(linea)        \n",
    "            a=a+1\n",
    "            \n",
    "    inf.close()\n",
    "    ver=[]\n",
    "    cont=0\n",
    "    for i in range (int(tam)):\n",
    "        ver.append(str(cont))\n",
    "        cont=cont+1\n",
    "   \n",
    "    ed=set()\n",
    "    val=[]\n",
    "    i=0\n",
    "    j=0\n",
    "    for l in p:\n",
    "        val= l.split(\"\\n\")[0].split(\"\\t\")\n",
    "        j=0\n",
    "        for x in val:\n",
    "            if x !='Inf' and x !='':\n",
    "                ar= x.split(\"/\")\n",
    "                ed.add((ar[0],ar[1],str(i),str(j+i)))\n",
    "            j=j+1\n",
    "        i=i+1\n",
    "\n",
    "    graph = {\n",
    "            'vertices': ver,\n",
    "            'edges': ed\n",
    "            }\n",
    "\n",
    "    peso, result= k_rb(graph, int(k))\n",
    "    blue=[]\n",
    "    red=[]\n",
    "    for res in result:\n",
    "        pes, color, v1, v2 = res\n",
    "        if color==\"B\":\n",
    "            blue.append(\"(\"+v1+\",\"+v2+\")\")\n",
    "        else:\n",
    "            red.append(\"(\"+v1+\",\"+v2+\")\")\n",
    "   \n",
    "    print peso+1\n",
    "    print red\n",
    "    print blue"
   ]
  },
  {
   "cell_type": "code",
   "execution_count": 79,
   "metadata": {
    "collapsed": false
   },
   "outputs": [
    {
     "name": "stdout",
     "output_type": "stream",
     "text": [
      "22\n",
      "['(1,5)', '(1,2)', '(0,2)']\n",
      "['(6,7)', '(0,4)', '(2,6)', '(1,3)']\n"
     ]
    }
   ],
   "source": [
    "kruskal_rb()"
   ]
  },
  {
   "cell_type": "markdown",
   "metadata": {},
   "source": [
    "# Tercer punto"
   ]
  },
  {
   "cell_type": "markdown",
   "metadata": {},
   "source": [
    "(Cliques en Grafos). La distancia de Hamming dist(u,v) entre dos vectores binarios v = (v_1 , . . . , v_n ) and w = (w_1 , . . . , w_n ) es el número de índices k tal que v_k \\neq w_k. Una pregunta fundamental en la teoría de la codificación es determinar el número A(n, d) = max |{S ⊂ {0, 1} n | dist(u, v) ≥ d for all distinct u, v ∈ S}|, el máximo número de vectores binarios de longitud n que uno puede encontrar tal que dos vectores diferentes tienen una distancia de Hamming ≥ d. Por ejemplo, A(5, 4) = 2. El grafo de Hamming H(n, d) = (V, E) es el gráfo con 2^n vertices V dados por cadenas binarias de longitud n. Nosotros tenemos (u, v) ∈ E si y solo si dist(u, v) ≥ d. El número A(n,d) coincide con el tamaño de un clique máximo en H(n,d). Encuentre un algoritmo \"eficiente\" para calcular el clique máximo en el grafo de Hamming (calcular el clique máximo es un problema NP-difícil)."
   ]
  },
  {
   "cell_type": "code",
   "execution_count": 89,
   "metadata": {
    "collapsed": false
   },
   "outputs": [
    {
     "name": "stdout",
     "output_type": "stream",
     "text": [
      "\n",
      "[['010', '011', '001', '100', '000', '101', '111', '110']]\n",
      "8\n"
     ]
    }
   ],
   "source": [
    "import networkx\n",
    "import itertools\n",
    "import logging\n",
    "\n",
    "def hamdist(str1, str2):        \n",
    "        diffs = 0\n",
    "        for ch1, ch2 in zip(str1, str2):\n",
    "                if ch1 != ch2:\n",
    "                        diffs += 1\n",
    "        return diffs\n",
    "\n",
    "def hamming_binary(chromosome_len, d):\n",
    "   \n",
    "    space = networkx.Graph()\n",
    "\n",
    "    # create all nodes\n",
    "    l = [\"01\"] * chromosome_len \n",
    "    all_nodes = itertools.product(*l)\n",
    "    all_nodes = [''.join(x) for x in all_nodes]\n",
    "    #logging.debug(all_nodes)\n",
    "    space.add_nodes_from(all_nodes) \n",
    "    \n",
    "    # for each node, find neighbors\n",
    "    \n",
    "    for node in space.nodes():\n",
    "        #[space.add_edge(node, mutate_node(node, base)) for base in range(chromosome_len)]\n",
    "        \n",
    "        for v in space.nodes():\n",
    "            if(v != node):\n",
    "                dist = hamdist(node, v)\n",
    "                if(dist >= d):\n",
    "                    space.add_edge(node,v)\n",
    "    \n",
    "    return space\n",
    "\n",
    "\n",
    "def mutate_node(node, n):\n",
    "    # wonder if there is some binary utils package for python\n",
    "    if node[n] == '0':\n",
    "        newbase = '1'\n",
    "    else:\n",
    "        newbase = '0'\n",
    "    new_node = node[0:n] + newbase + node[n+1:]\n",
    "    return new_node\n",
    "\n",
    "\n",
    "space = hamming_binary(3,1)\n",
    "print space\n",
    "\n",
    "cliques =list(networkx.find_cliques(space) )\n",
    "num_cliques =  networkx.graph_clique_number(space)\n",
    "\n",
    "print (cliques)\n",
    "print networkx.graph_clique_number(space)"
   ]
  },
  {
   "cell_type": "markdown",
   "metadata": {},
   "source": [
    "Fuentes: https://gist.github.com/mariaperez/1896793"
   ]
  },
  {
   "cell_type": "code",
   "execution_count": null,
   "metadata": {
    "collapsed": true
   },
   "outputs": [],
   "source": []
  }
 ],
 "metadata": {
  "kernelspec": {
   "display_name": "Python 2",
   "language": "python",
   "name": "python2"
  },
  "language_info": {
   "codemirror_mode": {
    "name": "ipython",
    "version": 2
   },
   "file_extension": ".py",
   "mimetype": "text/x-python",
   "name": "python",
   "nbconvert_exporter": "python",
   "pygments_lexer": "ipython2",
   "version": "2.7.13"
  }
 },
 "nbformat": 4,
 "nbformat_minor": 2
}
