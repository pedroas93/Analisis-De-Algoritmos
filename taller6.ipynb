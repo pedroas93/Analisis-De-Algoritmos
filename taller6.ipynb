{
 "cells": [
  {
   "cell_type": "markdown",
   "metadata": {},
   "source": [
    "# Punto numero1"
   ]
  },
  {
   "cell_type": "code",
   "execution_count": 14,
   "metadata": {
    "collapsed": false
   },
   "outputs": [
    {
     "data": {
      "text/plain": [
       "({'0': {},\n",
       "  '1': {},\n",
       "  '10': {},\n",
       "  '11': {},\n",
       "  '12': {},\n",
       "  '13': {},\n",
       "  '14': {},\n",
       "  '15': {},\n",
       "  '16': {},\n",
       "  '17': {},\n",
       "  '18': {},\n",
       "  '19': {},\n",
       "  '2': {},\n",
       "  '20': {},\n",
       "  '21': {},\n",
       "  '22': {},\n",
       "  '23': {},\n",
       "  '24': {},\n",
       "  '25': {},\n",
       "  '26': {},\n",
       "  '27': {},\n",
       "  '28': {},\n",
       "  '29': {},\n",
       "  '3': {},\n",
       "  '30': {},\n",
       "  '31': {},\n",
       "  '32': {},\n",
       "  '33': {},\n",
       "  '34': {},\n",
       "  '35': {},\n",
       "  '36': {},\n",
       "  '37': {},\n",
       "  '38': {},\n",
       "  '39': {},\n",
       "  '4': {},\n",
       "  '40': {},\n",
       "  '41': {},\n",
       "  '42': {},\n",
       "  '43': {},\n",
       "  '44': {},\n",
       "  '45': {},\n",
       "  '46': {},\n",
       "  '47': {},\n",
       "  '48': {},\n",
       "  '49': {},\n",
       "  '5': {},\n",
       "  '6': {},\n",
       "  '7': {},\n",
       "  '8': {},\n",
       "  '9': {}},\n",
       " array([[  0.,  inf,  inf, ...,  inf,  inf,  inf],\n",
       "        [ inf,   0.,  inf, ...,  inf,  inf,  inf],\n",
       "        [ inf,  inf,   0., ...,  inf,  inf,  inf],\n",
       "        ..., \n",
       "        [ inf,  inf,  inf, ...,   0.,  inf,  inf],\n",
       "        [ inf,  inf,  inf, ...,  inf,   0.,  inf],\n",
       "        [ inf,  inf,  inf, ...,  inf,  inf,   0.]]))"
      ]
     },
     "execution_count": 14,
     "metadata": {},
     "output_type": "execute_result"
    }
   ],
   "source": [
    "import random\n",
    "import numpy as np\n",
    "\n",
    "def grafoC(om, n, mn, mx):\n",
    "    G = {};\n",
    "    mat = np.ones((n , n) ) * float('inf')\n",
    "    for i in range(n):\n",
    "        x = {};\n",
    "        for j in range(n):\n",
    "            if i <> j:\n",
    "                a = random.randrange(0.0,100.0)\n",
    "                b = a/100.0\n",
    "                if(b > om):\n",
    "                    ps = random.randrange(mn,mx)\n",
    "                    x[str(j)] = ps;\n",
    "                    mat[i,j] = ps;\n",
    "            else:\n",
    "                mat[i,j] = 0;\n",
    "        G[str(i)] = x;\n",
    "    \n",
    "    return G, mat\n",
    "grafoC ( 20 , 50, 10 , 100)"
   ]
  },
  {
   "cell_type": "markdown",
   "metadata": {},
   "source": [
    "# punto numero2"
   ]
  },
  {
   "cell_type": "code",
   "execution_count": 30,
   "metadata": {
    "collapsed": false
   },
   "outputs": [
    {
     "name": "stdout",
     "output_type": "stream",
     "text": [
      "{'a': ({'a': 0, 'c': 9, 'b': 8, 'e': 7, 'd': 5}, {'c': 'b', 'b': 'd', 'e': 'd', 'd': 'a'}), 'c': ({'a': 11, 'c': 0, 'b': 19, 'e': 4, 'd': 16}, {'a': 'e', 'b': 'd', 'e': 'c', 'd': 'a'}), 'b': ({'a': 11, 'c': 1, 'b': 0, 'e': 4, 'd': 2}, {'a': 'e', 'c': 'b', 'e': 'd', 'd': 'b'}), 'e': ({'a': 7, 'c': 6, 'b': 15, 'e': 0, 'd': 12}, {'a': 'e', 'c': 'e', 'b': 'd', 'd': 'a'}), 'd': ({'a': 9, 'c': 4, 'b': 3, 'e': 2, 'd': 0}, {'a': 'e', 'c': 'b', 'b': 'd', 'e': 'd'})}\n"
     ]
    }
   ],
   "source": [
    "def Dijkstrat(G):\n",
    "    resultado={}\n",
    "    for i in G:\n",
    "        resultado[i]=Dijkstra(G,i)\n",
    "    return resultado\n",
    "from heapq import heappush, heappop\n",
    "\n",
    "def updateheap(heap,d,v):\n",
    "    for i in range(len(heap)):\n",
    "        if heap[i][1] == v:\n",
    "            heap[i][0] = d\n",
    "            fix_minheap(heap,i)    \n",
    "            break    \n",
    "\n",
    "def fix_minheap(heap, i):\n",
    "    if i == 0: return  \n",
    "    p = int(i/2)  \n",
    "    if p >= 0 and heap[p][0] > heap[i][0]:\n",
    "        heap[i], heap[p] = heap[p], heap[i]\n",
    "        fix_minheap(heap,p)   \n",
    "            \n",
    "def Dijkstra(G,start):\n",
    "        \n",
    "    D = {} \n",
    "    for v in G:\n",
    "        D[v] = float('inf')\n",
    "    D[start] = 0\n",
    "    \n",
    "    P = {} \n",
    "    \n",
    "    Q=[]\n",
    "    for v in G:\n",
    "        item = []\n",
    "        item.append(D[v])\n",
    "        item.append(v)\n",
    "        heappush(Q,item)\n",
    "    \n",
    "    \n",
    "    while Q:\n",
    "        u = heappop(Q)[1]\n",
    "        for v in G[u]:\n",
    "            newDuv = D[u] + G[u][v]\n",
    "            if newDuv < D[v]:\n",
    "                P[v] = u\n",
    "                D[v] = newDuv\n",
    "                updateheap(Q,D[v],v)\n",
    "    return D,P\n",
    "\n",
    "\n",
    "print(Dijkstrat(G))"
   ]
  },
  {
   "cell_type": "markdown",
   "metadata": {},
   "source": [
    "# punto numero3"
   ]
  },
  {
   "cell_type": "code",
   "execution_count": 29,
   "metadata": {
    "collapsed": false
   },
   "outputs": [
    {
     "name": "stdout",
     "output_type": "stream",
     "text": [
      "{'a': {'a': 0, 'c': 9, 'b': 8, 'e': 7, 'd': 5}, 'c': {'a': 11, 'c': 0, 'b': 19, 'e': 4, 'd': 16}, 'b': {'a': 11, 'c': 1, 'b': 0, 'e': 4, 'd': 2}, 'e': {'a': 7, 'c': 6, 'b': 15, 'e': 0, 'd': 12}, 'd': {'a': 9, 'c': 4, 'b': 3, 'e': 2, 'd': 0}}\n"
     ]
    }
   ],
   "source": [
    "def BellmanTodos(G):\n",
    "    \n",
    "    T={};\n",
    "    for n in G:\n",
    "        D,P = BellmanFord(G, n);\n",
    "        T[n] = D;\n",
    "    return T;\n",
    "\n",
    "def BellmanFord(G,start):\n",
    "    \n",
    "    D = {}\n",
    "    for v in G:\n",
    "        D[v] = float('inf')\n",
    "    D[start] = 0\n",
    "    \n",
    "    P = {} \n",
    "    \n",
    "    for i in range(len(G)-1):\n",
    "        for u in G:\n",
    "            for v in G[u]:   \n",
    "                newDv = D[u] + G[u][v]\n",
    "                if newDv < D[v]:\n",
    "                    P[v] = u\n",
    "                    D[v] = newDv\n",
    "    \n",
    "    for u in G:\n",
    "        for v in G[u]:   \n",
    "            newDv = D[u] + G[u][v]\n",
    "            if newDv < D[v]: print(\"Negative cicle\",u,v)\n",
    "                \n",
    "    return D,P\n",
    "\n",
    "G = {'a': {'b':10, 'd':5},\n",
    "     'b': {'c':1, 'd':2},\n",
    "     'c': {'e':4},\n",
    "     'd':{'b':3,'c':9,'e':2},\n",
    "     'e':{'a':7,'c':6}}\n",
    "\n",
    "print(BellmanTodos(G))"
   ]
  },
  {
   "cell_type": "markdown",
   "metadata": {},
   "source": [
    "# punto numero4"
   ]
  },
  {
   "cell_type": "code",
   "execution_count": 5,
   "metadata": {
    "collapsed": false
   },
   "outputs": [
    {
     "name": "stdout",
     "output_type": "stream",
     "text": [
      "{'a': ['a', 'b', 'd', 'c', 'e'], 'c': ['c', 'e', 'a', 'b', 'd'], 'b': ['b', 'c', 'd', 'e', 'a'], 'e': ['e', 'a', 'c', 'b', 'd'], 'd': ['d', 'c', 'b', 'e', 'a']}\n"
     ]
    }
   ],
   "source": [
    "import Queue\n",
    "\n",
    "def BFS(G):\n",
    "    \n",
    "    resultado={}\n",
    "    for m in G:\n",
    "        q = Queue.Queue()\n",
    "        visitados=[]\n",
    "        q.put(m)\n",
    "        while not q.empty():\n",
    "            v=q.get()\n",
    "            if v not in visitados:\n",
    "                visitados.append(v)\n",
    "                for i in G[v]:\n",
    "                    if i not in visitados:\n",
    "                        q.put(i)                \n",
    "        resultado[m]=visitados\n",
    "        \n",
    "    return(resultado)\n",
    "G = {'a': {'b':10, 'd':5},\n",
    "     'b': {'c':1, 'd':2},\n",
    "     'c': {'e':4},\n",
    "     'd':{'b':3,'c':9,'e':2},\n",
    "     'e':{'a':7,'c':6}}\n",
    "print(BFS(G))"
   ]
  },
  {
   "cell_type": "code",
   "execution_count": null,
   "metadata": {
    "collapsed": true
   },
   "outputs": [],
   "source": []
  }
 ],
 "metadata": {
  "anaconda-cloud": {},
  "kernelspec": {
   "display_name": "Python [default]",
   "language": "python",
   "name": "python2"
  },
  "language_info": {
   "codemirror_mode": {
    "name": "ipython",
    "version": 2
   },
   "file_extension": ".py",
   "mimetype": "text/x-python",
   "name": "python",
   "nbconvert_exporter": "python",
   "pygments_lexer": "ipython2",
   "version": "2.7.12"
  }
 },
 "nbformat": 4,
 "nbformat_minor": 1
}
