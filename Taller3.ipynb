{
 "cells": [
  {
   "cell_type": "markdown",
   "metadata": {},
   "source": [
    "<p>TALLER3</p>"
   ]
  },
  {
   "cell_type": "markdown",
   "metadata": {},
   "source": []
  },
  {
   "cell_type": "code",
   "execution_count": 1,
   "metadata": {
    "collapsed": true
   },
   "outputs": [],
   "source": [
    "import math\n",
    "import numpy as np\n",
    "import pylab as pl\n",
    "import random as rnd"
   ]
  },
  {
   "cell_type": "code",
   "execution_count": 2,
   "metadata": {
    "collapsed": false
   },
   "outputs": [],
   "source": [
    "def maxContiguousSum(A):\n",
    "    maxSum = 0\n",
    "    for i in range(1, len(A)):\n",
    "        for j in range(len(A) - i - 1):\n",
    "            sum = 0\n",
    "            for k in range(j, j + i + 1):\n",
    "                sum += A[k]\n",
    "                if maxSum < sum:\n",
    "                    maxSum = sum\n",
    "    print maxSum"
   ]
  },
  {
   "cell_type": "code",
   "execution_count": 3,
   "metadata": {
    "collapsed": false
   },
   "outputs": [
    {
     "name": "stdout",
     "output_type": "stream",
     "text": [
      "78\n"
     ]
    }
   ],
   "source": [
    "maxContiguousSum([-4, 30, -2, 50, -8, -5])"
   ]
  },
  {
   "cell_type": "markdown",
   "metadata": {},
   "source": []
  },
  {
   "cell_type": "code",
   "execution_count": 4,
   "metadata": {
    "collapsed": false
   },
   "outputs": [],
   "source": [
    "def maxContiguous(A, lo, hi):\n",
    "    \n",
    "    if lo == hi:\n",
    "        return A[lo]\n",
    "    \n",
    "    center = (lo + hi)/2\n",
    "    \n",
    "    maxLeftSum = maxContiguousSumDCHelper(A, lo, center)\n",
    "    maxRightSum = maxContiguousSumDCHelper(A, center + 1, hi)\n",
    "    \n",
    "    maxRightMiddleSum = 0\n",
    "    maxLeftMiddleSum = 0\n",
    "    leftSum = 0\n",
    "    rightSum = 0\n",
    "    \n",
    "    for i in range(center, lo, -1):\n",
    "        leftSum += A[i]\n",
    "        if(leftSum > maxLeftMiddleSum):\n",
    "            maxLeftMiddleSum = leftSum\n",
    "        \n",
    "    for i in range(center + 1, hi):\n",
    "        rightSum += A[i]\n",
    "        if(rightSum > maxRightMiddleSum):\n",
    "            maxRightMiddleSum = rightSum\n",
    "    \n",
    "    return max(maxLeftSum, maxRightSum, maxLeftMiddleSum + maxRightMiddleSum)"
   ]
  },
  {
   "cell_type": "code",
   "execution_count": 5,
   "metadata": {
    "collapsed": false
   },
   "outputs": [],
   "source": [
    "def maxContiguousDC(A):\n",
    "    return maxContiguous(A, 0, len(A) - 1 )"
   ]
  },
  {
   "cell_type": "code",
   "execution_count": 6,
   "metadata": {
    "collapsed": false
   },
   "outputs": [
    {
     "data": {
      "text/plain": [
       "78"
      ]
     },
     "execution_count": 6,
     "metadata": {},
     "output_type": "execute_result"
    }
   ],
   "source": [
    "maxContiguousDC([-4, 30, -2, 50, -8, -5])"
   ]
  },
  {
   "cell_type": "markdown",
   "metadata": {},
   "source": []
  },
  {
   "cell_type": "code",
   "execution_count": 12,
   "metadata": {
    "collapsed": false
   },
   "outputs": [],
   "source": [
    "def Sumax3(a, prim, ult):\n",
    "    #Casos base\n",
    "    if prim > ult:\n",
    "        return 0\n",
    "    if prim == ult:\n",
    "        return max(0, a[prim])\n",
    "    \n",
    "    mitad = (prim + ult) / 2\n",
    "    \n",
    "    max_aux = max(Sumamax3(a, prim, mitad), Sumamax3(a, mitad+1, ult))\n",
    "    \n",
    "    max_izq = 0\n",
    "    suma = 0\n",
    "    for i in range(mitad, prim, -1):\n",
    "        suma += a[i]\n",
    "        max_izq = max(max_izq, suma)\n",
    "    \n",
    "    max_der = 0\n",
    "    suma = 0\n",
    "    for i in range(mitad + 1, ult):\n",
    "        suma += a[i]\n",
    "        max_der = max(max_der, suma)\n",
    "    \n",
    "    return max(max_der+max_izq, max_aux) "
   ]
  },
  {
   "cell_type": "code",
   "execution_count": 13,
   "metadata": {
    "collapsed": false
   },
   "outputs": [
    {
     "data": {
      "text/plain": [
       "78"
      ]
     },
     "execution_count": 13,
     "metadata": {},
     "output_type": "execute_result"
    }
   ],
   "source": [
    "Sumax3([-4, 30, -2, 50, -8, -5], 0, 5)"
   ]
  },
  {
   "cell_type": "code",
   "execution_count": null,
   "metadata": {
    "collapsed": true
   },
   "outputs": [],
   "source": []
  }
 ],
 "metadata": {
  "anaconda-cloud": {},
  "kernelspec": {
   "display_name": "Python [default]",
   "language": "python",
   "name": "python2"
  },
  "language_info": {
   "codemirror_mode": {
    "name": "ipython",
    "version": 2
   },
   "file_extension": ".py",
   "mimetype": "text/x-python",
   "name": "python",
   "nbconvert_exporter": "python",
   "pygments_lexer": "ipython2",
   "version": "2.7.12"
  }
 },
 "nbformat": 4,
 "nbformat_minor": 2
}
