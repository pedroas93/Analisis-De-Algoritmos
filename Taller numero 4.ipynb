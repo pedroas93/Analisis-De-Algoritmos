{
 "cells": [
  {
   "cell_type": "markdown",
   "metadata": {},
   "source": [
    "# Primer punto"
   ]
  },
  {
   "cell_type": "code",
   "execution_count": 4,
   "metadata": {
    "collapsed": false
   },
   "outputs": [
    {
     "data": {
      "text/plain": [
       "'ABC'"
      ]
     },
     "execution_count": 4,
     "metadata": {},
     "output_type": "execute_result"
    }
   ],
   "source": [
    "\n",
    "def lcs(a, b):\n",
    "    lengths = [[0 for j in range(len(b)+1)] for i in range(len(a)+1)]\n",
    "    for i, x in enumerate(a):\n",
    "        for j, y in enumerate(b):\n",
    "            if x == y:\n",
    "                lengths[i+1][j+1] = lengths[i][j] + 1\n",
    "            else:\n",
    "                lengths[i+1][j+1] = max(lengths[i+1][j], lengths[i][j+1])\n",
    "    result = \"\"\n",
    "    x, y = len(a), len(b)\n",
    "    while x != 0 and y != 0:\n",
    "        if lengths[x][y] == lengths[x-1][y]:\n",
    "            x -= 1\n",
    "        elif lengths[x][y] == lengths[x][y-1]:\n",
    "            y -= 1\n",
    "        else:\n",
    "            assert a[x-1] == b[y-1]\n",
    "            result = a[x-1] + result\n",
    "            x -= 1\n",
    "            y -= 1\n",
    "    return result\n",
    "\n",
    "lcs('ABC','AWBDC')"
   ]
  },
  {
   "cell_type": "markdown",
   "metadata": {},
   "source": [
    "# SEGUNDO PUNTO"
   ]
  },
  {
   "cell_type": "code",
   "execution_count": 7,
   "metadata": {
    "collapsed": true
   },
   "outputs": [],
   "source": [
    "def cut_rodBU(p,n):\n",
    "    r = [0] * (n+1)\n",
    "    r[0] = 0\n",
    "    r2 = [0] * (n+1)\n",
    "    \n",
    "    for j in range(1,n+1):\n",
    "        q = float('-inf')\n",
    "        for i in range(1,j+1):\n",
    "            a = p[i-1]\n",
    "            b = r[j-i]\n",
    "            if q < a+b:\n",
    "                l = []\n",
    "                q=a+b\n",
    "                l.append(i)\n",
    "                if r2[j-i] != 0:\n",
    "                    l = r2[j-i]+l\n",
    "        r2[j]= l\n",
    "        r[j] = q\n",
    "    return r[n], r2[n]"
   ]
  },
  {
   "cell_type": "markdown",
   "metadata": {},
   "source": [
    "# TERCER PUNTO"
   ]
  },
  {
   "cell_type": "code",
   "execution_count": 30,
   "metadata": {
    "collapsed": false
   },
   "outputs": [
    {
     "name": "stdout",
     "output_type": "stream",
     "text": [
      "la distancia minima es: 7\n"
     ]
    }
   ],
   "source": [
    "def distanciaM( str1, str2, m , n):\n",
    " \n",
    "    if m==0:\n",
    "         return n\n",
    "    if n==0:\n",
    "        return m\n",
    "        return editDistance(str1,str2,m-1,n-1)\n",
    "    return 1 + min(editDistance(str1, str2, m, n-1), editDistance(str1, str2, m-1, n),    editDistance(str1, str2, m-1, n-1))\n",
    "\n",
    "str1=\"David\"\n",
    "str2=\"Pedraza\"\n",
    "print (\"la distancia minima es:\", editDistance(str1, str2, len(str1), len(str2)))"
   ]
  },
  {
   "cell_type": "markdown",
   "metadata": {},
   "source": [
    "# Cuart Punto"
   ]
  },
  {
   "cell_type": "code",
   "execution_count": 31,
   "metadata": {
    "collapsed": false
   },
   "outputs": [
    {
     "ename": "SyntaxError",
     "evalue": "Missing parentheses in call to 'print' (<ipython-input-31-65fec304d4c4>, line 5)",
     "output_type": "error",
     "traceback": [
      "\u001b[0;36m  File \u001b[0;32m\"<ipython-input-31-65fec304d4c4>\"\u001b[0;36m, line \u001b[0;32m5\u001b[0m\n\u001b[0;31m    print i, n\u001b[0m\n\u001b[0m          ^\u001b[0m\n\u001b[0;31mSyntaxError\u001b[0m\u001b[0;31m:\u001b[0m Missing parentheses in call to 'print'\n"
     ]
    }
   ],
   "source": [
    "def start(source, dest, n, mat):\n",
    "    c = np.zeros((n, n))\n",
    "    for i in range(1, n):\n",
    "        for j in range(1, n):\n",
    "            print i, n\n",
    "            c[i,j] = cost_menor(i,j,n,mat,c)\n",
    "    return c\n",
    "\n",
    "def cost_menor(source, dest, n, mat, c):\n",
    "    print source+1, n\n",
    "    cont = float('inf')\n",
    "    for i in range(source+1, n):\n",
    "        #print \"MAT: \",  mat[source,i] + c[i,dest]\n",
    "        print \"\\n\"\n",
    "        cont = min(cont, mat[source,i]+c[i,dest])\n",
    "    return cont"
   ]
  },
  {
   "cell_type": "code",
   "execution_count": null,
   "metadata": {
    "collapsed": true
   },
   "outputs": [],
   "source": []
  }
 ],
 "metadata": {
  "kernelspec": {
   "display_name": "Python 3",
   "language": "python",
   "name": "python3"
  },
  "language_info": {
   "codemirror_mode": {
    "name": "ipython",
    "version": 3
   },
   "file_extension": ".py",
   "mimetype": "text/x-python",
   "name": "python",
   "nbconvert_exporter": "python",
   "pygments_lexer": "ipython3",
   "version": "3.6.0"
  }
 },
 "nbformat": 4,
 "nbformat_minor": 2
}
