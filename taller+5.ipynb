{
 "cells": [
  {
   "cell_type": "markdown",
   "metadata": {},
   "source": [
    "# Punto numero 1"
   ]
  },
  {
   "cell_type": "code",
   "execution_count": 29,
   "metadata": {
    "collapsed": false
   },
   "outputs": [
    {
     "data": {
      "text/plain": [
       "{'1', '2', '3', '4', '5', '6'}"
      ]
     },
     "execution_count": 29,
     "metadata": {},
     "output_type": "execute_result"
    }
   ],
   "source": [
    "\n",
    "def dfs(grafo, start):\n",
    "    visited, stack = set(), [start]\n",
    "    while stack:\n",
    "        vertex = stack.pop()\n",
    "        if vertex not in visited:\n",
    "            visited.add(vertex)\n",
    "            stack.extend(grafo[vertex] - visited)\n",
    "    return visited\n",
    "\n",
    "grafo = {'1': set(['2', '3']),\n",
    "         '2': set(['1', '4', '5']),\n",
    "         '3': set(['1', '6']),\n",
    "         '4': set(['2']),\n",
    "         '5': set(['2', '6']),\n",
    "         '6': set(['3', '4'])}\n",
    "\n",
    "dfs(grafo, '1')"
   ]
  },
  {
   "cell_type": "markdown",
   "metadata": {},
   "source": [
    "# punto numero 2"
   ]
  },
  {
   "cell_type": "code",
   "execution_count": 34,
   "metadata": {
    "collapsed": false
   },
   "outputs": [
    {
     "data": {
      "image/png": "[encoded data removed]",
      "text/plain": [
       "<matplotlib.figure.Figure at 0x9ae8ef0>"
      ]
     },
     "metadata": {},
     "output_type": "display_data"
    }
   ],
   "source": [
    "import math\n",
    "import numpy as np\n",
    "import pylab as pl\n",
    "import time \n",
    "import random \n",
    "import pylab  \n",
    "import math\n",
    "import numpy as np\n",
    "\n",
    "\n",
    "gafo = {'A': set(['D', 'F']),\n",
    "         'B': set(['C', 'A', 'F']),\n",
    "         'C': set(['A', 'F']),\n",
    "         'D': set(['C']),\n",
    "         'E': set(['B', 'F']),\n",
    "         'F': set(['A', 'F'])}\n",
    "\n",
    "def exper_analysis_time(n):\n",
    "    results = []\n",
    "    for i in range(n):\n",
    "        l = list(range(i))\n",
    "        random.shuffle(l)\n",
    "        tic = time.clock()\n",
    "        dfs(graph, 'A') \n",
    "        toc = time.clock()\n",
    "        results.append((toc-tic))\n",
    "    return results\n",
    "\n",
    "\n",
    "pylab.clf()\n",
    "x = np.arange(100)\n",
    "y = np.array(exper_analysis_time(100))*1000\n",
    "\n",
    "pylab.plot(x, y, 'p--')\n",
    "pylab.show()"
   ]
  },
  {
   "cell_type": "markdown",
   "metadata": {},
   "source": [
    "# Punto numero3"
   ]
  },
  {
   "cell_type": "code",
   "execution_count": 31,
   "metadata": {
    "collapsed": false
   },
   "outputs": [
    {
     "name": "stdout",
     "output_type": "stream",
     "text": [
      "existen ciclos\n",
      "{0: [3, 5], 1: [2, 4, 5], 2: [1, 3, 5], 3: [2, 0], 4: [1, 5], 5: [1, 2, 4, 0]}\n",
      "existen ciclos\n",
      "{0: [3, 5], 1: [2, 4, 5], 2: [1, 3, 5], 3: [2, 0], 4: [1, 5], 5: [1, 2, 4, 0]}\n"
     ]
    }
   ],
   "source": [
    "global cont\n",
    "def rec(adjLists, visited, v,lista):\n",
    "    global cont\n",
    "    visited[v] = True\n",
    "    for w in adjLists[v]:\n",
    "        if(not visited[w]):\n",
    "            lista.append(v)\n",
    "            dfs_rec(adjLists, visited, w,lista)\n",
    "        else:\n",
    "            cont+=1\n",
    "\n",
    "def ciclo(adjLists):\n",
    "    global cont\n",
    "    cont=0\n",
    "    visited = []\n",
    "    n = len(adjLists)\n",
    "\n",
    "        \n",
    "    for i in range(n):\n",
    "        for j in range(n):\n",
    "            visited.append(False)\n",
    "\n",
    "        lista=[]\n",
    "        rec(adjLists, visited, i,lista)\n",
    "        visited = []\n",
    "    if cont>0:\n",
    "        print ('existen ciclos' )\n",
    "        print ( grafo1 )\n",
    "    else:\n",
    "        print ('no existen ciclos')\n",
    "        print ( grafo2 )\n",
    "        \n",
    "grafo1 = { 0 : [3,5],\n",
    "                    1 : [2,4,5],\n",
    "                    2 : [1,3,5],\n",
    "                    3 : [2,0],\n",
    "                    4 : [1,5],\n",
    "                    5 : [1,2,4,0]}\n",
    "\n",
    "grafo2 = { 0 : [1],\n",
    "                    1 : [2],\n",
    "                    2 : [3],\n",
    "                    3 : [2,0]}\n",
    "\n",
    "ciclo(grafo1)\n",
    "ciclo(grafo2)"
   ]
  },
  {
   "cell_type": "markdown",
   "metadata": {},
   "source": [
    "# punto numero4"
   ]
  },
  {
   "cell_type": "code",
   "execution_count": 42,
   "metadata": {
    "collapsed": false
   },
   "outputs": [
    {
     "name": "stdout",
     "output_type": "stream",
     "text": [
      "False\n",
      "False\n"
     ]
    }
   ],
   "source": [
    "def bip(adjLists,inicio):\n",
    "    n = len(adjLists)\n",
    "    color=[]\n",
    "    visited = []\n",
    "    for k in range(n):\n",
    "        visited.append(False)\n",
    "        color.append(0)\n",
    "    color[0]=1\n",
    "    sol=True\n",
    "    for i in range(n):\n",
    "        for j in adjLists[i]:\n",
    "            if color[j]==0:\n",
    "                if color[i]==1:\n",
    "                    color[j]=2\n",
    "                else:\n",
    "                    color[j]=1\n",
    "            else:\n",
    "                if color[j]==color[i]:\n",
    "                    sol=False\n",
    "            \n",
    "    print (sol)\n",
    "\n",
    "grafo1 = { 0 : [3,5],\n",
    "                    1 : [2,4],\n",
    "                    2 : [1,3,5],\n",
    "                    3 : [2,0],\n",
    "                    4 : [1],\n",
    "                    5 : [1,2]}\n",
    "grafo2 = { 0 : [3,5],\n",
    "                    1 : [2,4],\n",
    "                    2 : [2,4,5],\n",
    "                    3 : [2,0],\n",
    "                    4 : [1,5],\n",
    "                    5 : [2,3]}\n",
    "\n",
    "bip(grafo1,0)\n",
    "bip(grafo2,0)"
   ]
  },
  {
   "cell_type": "markdown",
   "metadata": {},
   "source": [
    "# punto numero5"
   ]
  },
  {
   "cell_type": "code",
   "execution_count": 43,
   "metadata": {
    "collapsed": false
   },
   "outputs": [
    {
     "name": "stdout",
     "output_type": "stream",
     "text": [
      "(65, ['A', 'B', 'E', 'F'])\n",
      "({'A': 0, 'B': 10, 'E': 60, 'D': 25, 'G': 67, 'F': 65}, {'B': 'A', 'E': 'B', 'D': 'B', 'G': 'F', 'F': 'E'})\n"
     ]
    }
   ],
   "source": [
    "from collections import defaultdict, deque\n",
    "\n",
    "\n",
    "class Graph(object):\n",
    "    def __init__(self):\n",
    "        self.nodes = set()\n",
    "        self.edges = defaultdict(list)\n",
    "        self.distances = {}\n",
    "\n",
    "    def add_node(self, value):\n",
    "        self.nodes.add(value)\n",
    "\n",
    "    def add_edge(self, from_node, to_node, distance):\n",
    "        self.edges[from_node].append(to_node)\n",
    "        self.edges[to_node].append(from_node)\n",
    "        self.distances[(from_node, to_node)] = distance\n",
    "\n",
    "\n",
    "def dijkstra(graph, initial):\n",
    "    visited = {initial: 0}\n",
    "    path = {}\n",
    "\n",
    "    nodes = set(graph.nodes)\n",
    "\n",
    "    while nodes:\n",
    "        min_node = None\n",
    "        for node in nodes:\n",
    "            if node in visited:\n",
    "                if min_node is None:\n",
    "                    min_node = node\n",
    "                elif visited[node] < visited[min_node]:\n",
    "                    min_node = node\n",
    "        if min_node is None:\n",
    "            break\n",
    "\n",
    "        nodes.remove(min_node)\n",
    "        current_weight = visited[min_node]\n",
    "\n",
    "        for edge in graph.edges[min_node]:\n",
    "            try:\n",
    "                weight = current_weight + graph.distances[(min_node, edge)]\n",
    "            except:\n",
    "                continue\n",
    "            if edge not in visited or weight < visited[edge]:\n",
    "                visited[edge] = weight\n",
    "                path[edge] = min_node\n",
    "\n",
    "    return visited, path\n",
    "\n",
    "\n",
    "def shortest_path(graph, origin, destination):\n",
    "    visited, paths = dijkstra(graph, origin)\n",
    "    full_path = deque()\n",
    "    _destination = paths[destination]\n",
    "\n",
    "    while _destination != origin:\n",
    "        full_path.appendleft(_destination)\n",
    "        _destination = paths[_destination]\n",
    "\n",
    "    full_path.appendleft(origin)\n",
    "    full_path.append(destination)\n",
    "\n",
    "    return visited[destination], list(full_path)\n",
    "\n",
    "graph = Graph()\n",
    "\n",
    "for node in ['A', 'B', 'C', 'D', 'E', 'F', 'G']:\n",
    "    graph.add_node(node)\n",
    "\n",
    "graph.add_edge('A', 'B', 10)\n",
    "graph.add_edge('B', 'D', 15)\n",
    "graph.add_edge('C', 'D', 30)\n",
    "graph.add_edge('B', 'E', 50)\n",
    "graph.add_edge('E', 'F', 5)\n",
    "graph.add_edge('F', 'G', 2)\n",
    "\n",
    "print(shortest_path(graph, 'A', 'F')) \n",
    "print(dijkstra(graph,'A'))"
   ]
  },
  {
   "cell_type": "code",
   "execution_count": null,
   "metadata": {
    "collapsed": true
   },
   "outputs": [],
   "source": []
  }
 ],
 "metadata": {
  "anaconda-cloud": {},
  "kernelspec": {
   "display_name": "Python [default]",
   "language": "python",
   "name": "python2"
  },
  "language_info": {
   "codemirror_mode": {
    "name": "ipython",
    "version": 2
   },
   "file_extension": ".py",
   "mimetype": "text/x-python",
   "name": "python",
   "nbconvert_exporter": "python",
   "pygments_lexer": "ipython2",
   "version": "2.7.12"
  }
 },
 "nbformat": 4,
 "nbformat_minor": 1
}
