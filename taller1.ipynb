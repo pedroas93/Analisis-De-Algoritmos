{
 "cells": [
  {
   "cell_type": "code",
   "execution_count": null,
   "metadata": {
    "collapsed": false
   },
   "outputs": [],
   "source": []
  },
  {
   "cell_type": "code",
   "execution_count": null,
   "metadata": {
    "collapsed": true
   },
   "outputs": [],
   "source": [
    "import math\n",
    "import numpy as np\n",
    "import pylab as pl\n",
    "%matplotlib inline\n",
    "In [ ]:\n"
   ]
  },
  {
   "cell_type": "code",
   "execution_count": 20,
   "metadata": {
    "collapsed": true
   },
   "outputs": [],
   "source": [
    "def insertion_sort(A):\n",
    "    j = 1\n",
    "    while j < len(A):\n",
    "        key = A[j]\n",
    "        i = j - 1\n",
    "        while (i >= 0) and (A[i] > key):\n",
    "            A[i + 1] = A[i]\n",
    "            i = i -1\n",
    "        A[i + 1] = key\n",
    "        j = j + 1"
   ]
  },
  {
   "cell_type": "code",
   "execution_count": 21,
   "metadata": {
    "collapsed": false
   },
   "outputs": [
    {
     "name": "stdout",
     "output_type": "stream",
     "text": [
      "[0 1 9 2 4 7 8 6 3 5]\n",
      "[0 1 2 3 4 5 6 7 8 9]\n"
     ]
    }
   ],
   "source": [
    "B = np.random.permutation(range(0,10))\n",
    "print (B)\n",
    "insertion_sort(B)\n",
    "print (B)"
   ]
  },
  {
   "cell_type": "code",
   "execution_count": 22,
   "metadata": {
    "collapsed": true
   },
   "outputs": [],
   "source": [
    "def invariant(A, original_A):\n",
    "    l1 = list(A)\n",
    "    l2 = list(original_A)\n",
    "    l2.sort()\n",
    "    return l1 == l2"
   ]
  },
  {
   "cell_type": "code",
   "execution_count": 23,
   "metadata": {
    "collapsed": false
   },
   "outputs": [
    {
     "name": "stdout",
     "output_type": "stream",
     "text": [
      "True\n",
      "False\n"
     ]
    }
   ],
   "source": [
    "print (invariant([1, 3, 6, 7], [7, 6, 3, 1]))\n",
    "print (invariant([1, 2, 3, 4], [5, 3, 2, 1]))"
   ]
  },
  {
   "cell_type": "code",
   "execution_count": 24,
   "metadata": {
    "collapsed": true
   },
   "outputs": [],
   "source": [
    "def right_insertion_sort(A):\n",
    "    original_A = list(A)\n",
    "    j = 1\n",
    "    assert invariant(A[0:j], original_A[0:j])\n",
    "    while j < len(A):\n",
    "        assert invariant(A[0:j], original_A[0:j])\n",
    "        key = A[j]\n",
    "        i = j - 1\n",
    "        while (i >= 0) and (A[i] > key):\n",
    "            A[i + 1] = A[i]\n",
    "            i = i -1        \n",
    "        A[i + 1] = key\n",
    "        j = j + 1\n",
    "    assert invariant(A[0:j], original_A[0:j])"
   ]
  },
  {
   "cell_type": "code",
   "execution_count": 55,
   "metadata": {
    "collapsed": false
   },
   "outputs": [
    {
     "name": "stdout",
     "output_type": "stream",
     "text": [
      "[1, 2, 5, 6, 7, 8, 8, 9, 10]\n"
     ]
    }
   ],
   "source": [
    "B = [10, 5, 6, 8, 7, 2, 8, 1, 9]\n",
    "right_insertion_sort(B)\n",
    "print (B)"
   ]
  },
  {
   "cell_type": "code",
   "execution_count": 58,
   "metadata": {
    "collapsed": false
   },
   "outputs": [],
   "source": [
    "def wrong_insertion_sort(A):\n",
    "    original_A = list(A)\n",
    "    j = 1\n",
    "    try:\n",
    "        assert invariant(A[0:j], original_A[0:j])\n",
    "        while j < len(A):\n",
    "            assert invariant(A[0:j], original_A[0:j])\n",
    "            key = A[j]\n",
    "            i = j - 1\n",
    "            while (i >= 0) and (A[i] < key):\n",
    "                A[i + 1] = A[i]\n",
    "                i = i - 1        \n",
    "            A[i + 1] = key\n",
    "            j = j + 1\n",
    "        assert invariant(A[0:j], original_A[0:j])\n",
    "    except  AssertionError:\n",
    "        print (\"Error en el invariante de ciclo!\")\n",
    "        print (\"j=\", j)\n",
    "        print (\"i=\", i)\n",
    "        print (\"A=\", A)\n",
    "        print (\"Original A=\", original_A)"
   ]
  },
  {
   "cell_type": "code",
   "execution_count": 59,
   "metadata": {
    "collapsed": false
   },
   "outputs": [
    {
     "name": "stdout",
     "output_type": "stream",
     "text": [
      "Error en el invariante de ciclo!\n",
      "('j=', 2)\n",
      "('i=', 0)\n",
      "('A=', [10, 5, 6, 8, 7, 2, 8, 1, 9])\n",
      "('Original A=', [10, 5, 6, 8, 7, 2, 8, 1, 9])\n"
     ]
    }
   ],
   "source": [
    "pru = [10, 5, 6, 8, 7, 2, 8, 1, 9]\n",
    "wrong_insertion_sort(pru)"
   ]
  },
  {
   "cell_type": "code",
   "execution_count": 28,
   "metadata": {
    "collapsed": true
   },
   "outputs": [],
   "source": [
    "class Counter:\n",
    "    '''\n",
    "    Class Counter\n",
    "    Implements a step counter, which is used to compute the number of basic operations performed in\n",
    "    a particular call to a function.\n",
    "    '''\n",
    "    def __init__(self):\n",
    "        self.steps = 0\n",
    "\n",
    "    def reset(self):\n",
    "        self.steps = 0\n",
    "\n",
    "    def count(self):\n",
    "        self.steps += 1\n",
    "\n",
    "    def print_steps(self):\n",
    "        print (\"Number of steps =\", self.steps)\n",
    "        \n",
    "def acct_insertion_sort(A, acct):\n",
    "    j = 1; acct.count()\n",
    "    acct.count()\n",
    "    while j < len(A):\n",
    "        acct.count()\n",
    "        key = A[j]; acct.count()\n",
    "        i = j - 1; acct.count()\n",
    "        acct.count()\n",
    "        while (i >= 0) and (A[i] > key):\n",
    "            acct.count()\n",
    "            A[i + 1] = A[i]; acct.count()\n",
    "            i = i -1; acct.count()\n",
    "        A[i + 1] = key; acct.count()\n",
    "        j = j + 1; acct.count()"
   ]
  },
  {
   "cell_type": "code",
   "execution_count": 29,
   "metadata": {
    "collapsed": false
   },
   "outputs": [
    {
     "name": "stdout",
     "output_type": "stream",
     "text": [
      "('Number of steps =', 125)\n"
     ]
    }
   ],
   "source": [
    "B = np.random.permutation(range(0,10))\n",
    "acct = Counter()\n",
    "acct_insertion_sort(B, acct)\n",
    "acct.print_steps()"
   ]
  },
  {
   "cell_type": "code",
   "execution_count": 30,
   "metadata": {
    "collapsed": true
   },
   "outputs": [],
   "source": [
    "import random\n",
    "\n",
    "def exper_analysis(n):\n",
    "    results = []\n",
    "    acct = Counter()\n",
    "    for i in range(n):\n",
    "        l = list(range(i))\n",
    "        random.shuffle(l)\n",
    "        acct.reset()\n",
    "        acct_insertion_sort(l, acct)\n",
    "        results.append(acct.steps)\n",
    "    return results"
   ]
  },
  {
   "cell_type": "markdown",
   "metadata": {},
   "source": [
    "print (exper_analysis(10))"
   ]
  },
  {
   "cell_type": "code",
   "execution_count": 32,
   "metadata": {
    "collapsed": false
   },
   "outputs": [
    {
     "data": {
      "text/plain": [
       "[<matplotlib.lines.Line2D at 0x7d6e358>]"
      ]
     },
     "execution_count": 32,
     "metadata": {},
     "output_type": "execute_result"
    },
    {
     "data": {
      "image/png": "[encoded data removed]",
      "text/plain": [
       "<matplotlib.figure.Figure at 0x45f2978>"
      ]
     },
     "metadata": {},
     "output_type": "display_data"
    }
   ],
   "source": []
  },
  {
   "cell_type": "code",
   "execution_count": null,
   "metadata": {
    "collapsed": true
   },
   "outputs": [],
   "source": []
  },
  {
   "cell_type": "code",
   "execution_count": 33,
   "metadata": {
    "collapsed": true
   },
   "outputs": [],
   "source": [
    "import time\n",
    "tic = time.clock()#get start time\n",
    "toc = time.clock()#get final time\n",
    "def timer_analysis(n):\n",
    "    results = []\n",
    "    acct = Counter()\n",
    "    for i in range(n):\n",
    "        l = list(range(i))\n",
    "        random.shuffle(l)\n",
    "        acct.reset()\n",
    "        tic = time.clock()\n",
    "        acct_insertion_sort(l, acct)\n",
    "        toc = time.clock()\n",
    "        results.append((toc-tic))\n",
    "    return results"
   ]
  },
  {
   "cell_type": "code",
   "execution_count": 35,
   "metadata": {
    "collapsed": false
   },
   "outputs": [
    {
     "data": {
      "image/png": "[encoded data removed]",
      "text/plain": [
       "<matplotlib.figure.Figure at 0x7ffd6d8>"
      ]
     },
     "metadata": {},
     "output_type": "display_data"
    }
   ],
   "source": [
    "import pylab \n",
    "import math\n",
    "pylab.clf()\n",
    "x = np.arange(200)\n",
    "y = np.array(timer_analysis(200))*500000\n",
    "\n",
    "a = np.arange(200)\n",
    "b = np.array(exper_analysis(200))\n",
    "\n",
    "c = np.arange(200)\n",
    "d = (c*c)\n",
    "\n",
    "pylab.plot(x, y, 'r--',a,b,'b--',c,d,'k.')\n",
    "pylab.show()"
   ]
  },
  {
   "cell_type": "code",
   "execution_count": 3,
   "metadata": {
    "collapsed": true
   },
   "outputs": [],
   "source": [
    "def quicksort(L, h, t):\n",
    "   \n",
    "    i = h\n",
    "    j = t    \n",
    "    p = int((L[i] + L[j]) / 2)\n",
    "\n",
    "    while i < j:\n",
    "        while L[i] < p:\n",
    "            i+=1\n",
    "        while L[j] > p:\n",
    "            j-=1\n",
    "        if i <= j:\n",
    "            x = L[j]\n",
    "            L[j] = L[i]\n",
    "            L[i] = x\n",
    "            i+=1\n",
    "            j-=1\n",
    "        \n",
    "\n",
    "    if h < j:\n",
    "        quicksort(L, h, j)\n",
    "\n",
    "    if t > i:\n",
    "         quicksort(L, i, t)\n",
    "   "
   ]
  },
  {
   "cell_type": "markdown",
   "metadata": {},
   "source": [
    "al = [11,3,6,2,9,45,7,5,8,16,1]\n",
    "quicksort(al,0,len(al)-1)\n",
    "print (al)"
   ]
  },
  {
   "cell_type": "code",
   "execution_count": 65,
   "metadata": {
    "collapsed": true
   },
   "outputs": [],
   "source": [
    "def invariant(A,p, h,t):\n",
    "    arr=list(A)\n",
    "    i=h\n",
    "    j=t\n",
    "    cont=0\n",
    "    tamtotal=t-h+1\n",
    "\n",
    "    while arr[i]<=p:\n",
    "        if i<=j:\n",
    "            i+=1\n",
    "            cont+=1\n",
    "        if i>j:\n",
    "            break\n",
    "    if i<=j:\n",
    "        while arr[i]>p:\n",
    "            if i<=j:\n",
    "                i+=1\n",
    "                cont+=1\n",
    "            if i>j:\n",
    "                break\n",
    "    if cont<tamtotal:\n",
    "        return False\n",
    "\n",
    "    return True"
   ]
  },
  {
   "cell_type": "code",
   "execution_count": 67,
   "metadata": {
    "collapsed": false
   },
   "outputs": [
    {
     "name": "stdout",
     "output_type": "stream",
     "text": [
      "False\n",
      "True\n"
     ]
    }
   ],
   "source": [
    "print (invariant([30,12,2,13,30,15,17], 6,0,4))\n",
    "print (invariant([4,2,5,9,7], 6,0,4))"
   ]
  },
  {
   "cell_type": "code",
   "execution_count": 7,
   "metadata": {
    "collapsed": true
   },
   "outputs": [],
   "source": [
    "def right_quicksort (L, h, t):\n",
    "    try:\n",
    "        i = h\n",
    "        j = t    \n",
    "        p = int((L[i] + L[j]) / 2)\n",
    "\n",
    "        while i < j:\n",
    "            while L[i] < p:\n",
    "                i+=1\n",
    "            while L[j] > p:\n",
    "                j-=1\n",
    "            if i <= j:\n",
    "                x = L[j]\n",
    "                L[j] = L[i]\n",
    "                L[i] = x\n",
    "                i+=1\n",
    "                j-=1\n",
    "                \n",
    "        assert invariant(L,p,h,t)\n",
    "            \n",
    "        if h < j:\n",
    "            right_quicksort(L, h, j)\n",
    "\n",
    "        if t > i:\n",
    "             right_quicksort(L, i, t)\n",
    "        assert invariant(L,p,h,t)\n",
    "        \n",
    "    except  AssertionError:\n",
    "        print (\"Error en la invariante\")"
   ]
  },
  {
   "cell_type": "code",
   "execution_count": 68,
   "metadata": {
    "collapsed": false
   },
   "outputs": [
    {
     "name": "stdout",
     "output_type": "stream",
     "text": [
      "('R:', [3, 5, 10, 20, 30, 30, 40, 50, 70])\n"
     ]
    }
   ],
   "source": [
    "L = [20,30,10,70,50,30,40,5,3]\n",
    "right_quicksort(L,0,len(L)-1)\n",
    "print (\"R:\",L)"
   ]
  },
  {
   "cell_type": "code",
   "execution_count": 9,
   "metadata": {
    "collapsed": true
   },
   "outputs": [],
   "source": [
    "def wrong_quicksort (L, h, t):\n",
    "    original_A=list(L)\n",
    "    try:\n",
    "        i = h\n",
    "        j = t    \n",
    "        p = int((L[i] + L[j]) / 2)\n",
    "\n",
    "        while i < j:\n",
    "            while L[i] < p:\n",
    "                i+=1\n",
    "            while L[j] > p:\n",
    "                j-=1\n",
    "            if i <= j:\n",
    "                i+=1\n",
    "                j-=1\n",
    "                \n",
    "        assert invariant(L,p,h,t)\n",
    "            \n",
    "        if h < j:\n",
    "            wrong_quicksort(L, h, j)\n",
    "\n",
    "        if t > i:\n",
    "             wrong_quicksort(L, i, t)\n",
    "                \n",
    "        assert invariant(L,p,h,t)\n",
    "        \n",
    "    except  AssertionError:\n",
    "        print (\"Error en el invariante de ciclo!\")\n",
    "        print (\"i\", i)\n",
    "        print (\"j\",j)\n",
    "        print (\"p\",p)\n",
    "        print (\"Original: \",original_A[h:t+1])\n",
    "        print (\"L:\",L[h:t+1])\n",
    "        "
   ]
  },
  {
   "cell_type": "code",
   "execution_count": 69,
   "metadata": {
    "collapsed": false
   },
   "outputs": [
    {
     "name": "stdout",
     "output_type": "stream",
     "text": [
      "Error en el invariante de ciclo!\n",
      "('i', 3)\n",
      "('j', 2)\n",
      "('p', 11)\n",
      "('Original: ', [20, 30, 10, 70, 50, 30, 40, 5, 3])\n",
      "('L:', [20, 30, 10, 70, 50, 30, 40, 5, 3])\n",
      "[20, 30, 10, 70, 50, 30, 40, 5, 3]\n"
     ]
    }
   ],
   "source": [
    "L = [20,30,10,70,50,30,40,5,3]\n",
    "wrong_quicksort(L,0,len(L)-1)\n",
    "print (L)"
   ]
  },
  {
   "cell_type": "code",
   "execution_count": 11,
   "metadata": {
    "collapsed": true
   },
   "outputs": [],
   "source": [
    "class Counter:\n",
    "    \n",
    "    def __init__(self):\n",
    "        self.steps = 0\n",
    "\n",
    "    def reset(self):\n",
    "        self.steps = 0\n",
    "\n",
    "    def count(self):\n",
    "        self.steps += 1\n",
    "\n",
    "    def print_steps(self):\n",
    "        print (\"Number of steps =\", self.steps)\n",
    "\n",
    "def acct_quicksort(L, h, t,acct):\n",
    "   \n",
    "    i = h; acct.count()\n",
    "    j = t  ; acct.count()  \n",
    "    p = int((L[i] + L[j]) / 2); acct.count()\n",
    "    while i < j:\n",
    "        acct.count()\n",
    "        while L[i] < p:\n",
    "            acct.count()\n",
    "            i+=1; acct.count()\n",
    "        acct.count()\n",
    "        while L[j] > p:\n",
    "            acct.count()\n",
    "            j-=1; acct.count()\n",
    "        if i <= j:\n",
    "            acct.count()\n",
    "            x = L[j]; acct.count()\n",
    "            L[j] = L[i]; acct.count()\n",
    "            L[i] = x; acct.count()\n",
    "            i+=1; acct.count()\n",
    "            j-=1; acct.count()\n",
    "    if h < j:\n",
    "        acct.count()\n",
    "        acct_quicksort(L, h, j,acct); acct.count()\n",
    "\n",
    "    if t > i:\n",
    "        acct.count()\n",
    "        acct_quicksort(L, i, t,acct); acct.count()\n",
    "    "
   ]
  },
  {
   "cell_type": "code",
   "execution_count": 12,
   "metadata": {
    "collapsed": false
   },
   "outputs": [
    {
     "name": "stdout",
     "output_type": "stream",
     "text": [
      "('Number of steps =', 216)\n"
     ]
    }
   ],
   "source": [
    "import numpy as np\n",
    "L = np.random.permutation(range(0,11))\n",
    "acct = Counter()\n",
    "acct_quicksort(L, 0,len(L)-1,acct)\n",
    "acct.print_steps()"
   ]
  },
  {
   "cell_type": "code",
   "execution_count": 13,
   "metadata": {
    "collapsed": true
   },
   "outputs": [],
   "source": [
    "import random\n",
    "\n",
    "def exper_analysis(n):\n",
    "    results = [0]\n",
    "    acct = Counter()\n",
    "    for i in range(n):\n",
    "        if i>0:\n",
    "            l = list(range(i))\n",
    "            random.shuffle(l)\n",
    "            acct.reset()\n",
    "            acct_quicksort(l,0,len(l)-1, acct)\n",
    "            results.append(acct.steps)\n",
    "    return results"
   ]
  },
  {
   "cell_type": "code",
   "execution_count": 14,
   "metadata": {
    "collapsed": false
   },
   "outputs": [
    {
     "name": "stdout",
     "output_type": "stream",
     "text": [
      "[0, 3, 13, 15, 32, 64, 81, 102, 141, 174, 187]\n"
     ]
    }
   ],
   "source": [
    "print (exper_analysis(11))"
   ]
  },
  {
   "cell_type": "code",
   "execution_count": 15,
   "metadata": {
    "collapsed": true
   },
   "outputs": [],
   "source": [
    "import time\n",
    "tic = time.clock()#get start time\n",
    "toc = time.clock()#get final time\n",
    "def timer_analysis(n):\n",
    "    results = [0]\n",
    "    acct = Counter()\n",
    "    for i in range(n):\n",
    "        if i>0:\n",
    "            l = list(range(i))\n",
    "            random.shuffle(l)\n",
    "            acct.reset()\n",
    "            tic = time.clock()\n",
    "            acct_quicksort(l,0,len(l)-1, acct)\n",
    "            toc = time.clock()\n",
    "            results.append((toc-tic))\n",
    "    return results"
   ]
  },
  {
   "cell_type": "code",
   "execution_count": 70,
   "metadata": {
    "collapsed": false
   },
   "outputs": [
    {
     "data": {
      "image/png": "[encoded data removed]",
      "text/plain": [
       "<matplotlib.figure.Figure at 0x84bbe10>"
      ]
     },
     "metadata": {},
     "output_type": "display_data"
    }
   ],
   "source": [
    "import pylab \n",
    "import math\n",
    "pylab.clf()\n",
    "x = np.arange(100)\n",
    "y = np.array(timer_analysis(100))*800000\n",
    "\n",
    "a = np.arange(100)\n",
    "b = np.array(exper_analysis(100))\n",
    "\n",
    "c = np.arange(100)\n",
    "d = (c*c)\n",
    "\n",
    "pylab.plot(x, y, 'r-',a,b,'b-',c,d,'k.')\n",
    "pylab.show()"
   ]
  },
  {
   "cell_type": "code",
   "execution_count": null,
   "metadata": {
    "collapsed": true
   },
   "outputs": [],
   "source": []
  },
  {
   "cell_type": "code",
   "execution_count": 36,
   "metadata": {
    "collapsed": true
   },
   "outputs": [],
   "source": [
    "def mergeSort(alist):\n",
    "    if len(alist)>1:\n",
    "        mid = len(alist)//2\n",
    "        LH = alist[:mid]\n",
    "        RH = alist[mid:]\n",
    "        mergeSort(LH)\n",
    "        mergeSort(RH)\n",
    "        i=0\n",
    "        j=0\n",
    "        k=0\n",
    "        while i < len(LH) and j < len(RH):\n",
    "            if LH[i] < RH[j]:\n",
    "                alist[k]=LH[i]\n",
    "                i=i+1\n",
    "            else:\n",
    "                alist[k]=RH[j]\n",
    "                j=j+1\n",
    "            k=k+1\n",
    "\n",
    "        while i < len(LH):\n",
    "            alist[k]=LH[i]\n",
    "            i=i+1\n",
    "            k=k+1\n",
    "\n",
    "        while j < len(RH):\n",
    "            alist[k]=RH[j]\n",
    "            j=j+1\n",
    "            k=k+1"
   ]
  },
  {
   "cell_type": "code",
   "execution_count": 71,
   "metadata": {
    "collapsed": false
   },
   "outputs": [
    {
     "name": "stdout",
     "output_type": "stream",
     "text": [
      "[3, 5, 10, 20, 30, 30, 40, 50, 70]\n"
     ]
    }
   ],
   "source": [
    "al = [20,30,10,70,50,30,40,5,3]\n",
    "mergeSort(al)\n",
    "print (al)"
   ]
  },
  {
   "cell_type": "code",
   "execution_count": 38,
   "metadata": {
    "collapsed": true
   },
   "outputs": [],
   "source": [
    "def invariant(A, original_A):\n",
    "    l1 = list(A)\n",
    "    l2 = list(original_A)\n",
    "    l2.sort()\n",
    "    return l1 == l2"
   ]
  },
  {
   "cell_type": "code",
   "execution_count": 76,
   "metadata": {
    "collapsed": true
   },
   "outputs": [],
   "source": [
    "def right_merge_sort(alist):\n",
    "    original_A=list(alist)\n",
    "    if len(alist)>1:\n",
    "        mid = len(alist)//2\n",
    "        LH = alist[:mid]\n",
    "        RH = alist[mid:]\n",
    "\n",
    "        right_merge_sort(LH)\n",
    "        right_merge_sort(RH)\n",
    "\n",
    "        i=0\n",
    "        j=0\n",
    "        k=0\n",
    "        while i < len(LH) and j < len(RH):\n",
    "            if LH[i] < RH[j]:\n",
    "                alist[k]=LH[i]\n",
    "                i=i+1\n",
    "            else:\n",
    "                alist[k]=RH[j]\n",
    "                j=j+1\n",
    "            k=k+1\n",
    "\n",
    "        while i < len(LH):\n",
    "            alist[k]=LH[i]\n",
    "            i=i+1\n",
    "            k=k+1\n",
    "\n",
    "        while j < len(RH):\n",
    "            alist[k]=RH[j]\n",
    "            j=j+1\n",
    "            k=k+1\n",
    "        assert invariant(alist, original_A)\n",
    "    \n",
    "  "
   ]
  },
  {
   "cell_type": "code",
   "execution_count": 77,
   "metadata": {
    "collapsed": false
   },
   "outputs": [
    {
     "ename": "TypeError",
     "evalue": "invariant() takes exactly 4 arguments (2 given)",
     "output_type": "error",
     "traceback": [
      "\u001b[0;31m---------------------------------------------------------------------------\u001b[0m",
      "\u001b[0;31mTypeError\u001b[0m                                 Traceback (most recent call last)",
      "\u001b[0;32m<ipython-input-77-43193e62223d>\u001b[0m in \u001b[0;36m<module>\u001b[0;34m()\u001b[0m\n\u001b[1;32m      1\u001b[0m \u001b[0mal\u001b[0m \u001b[1;33m=\u001b[0m \u001b[1;33m[\u001b[0m\u001b[1;36m5\u001b[0m\u001b[1;33m,\u001b[0m \u001b[1;36m4\u001b[0m\u001b[1;33m,\u001b[0m \u001b[1;36m6\u001b[0m\u001b[1;33m,\u001b[0m \u001b[1;36m3\u001b[0m\u001b[1;33m,\u001b[0m \u001b[1;36m7\u001b[0m\u001b[1;33m,\u001b[0m \u001b[1;36m2\u001b[0m\u001b[1;33m,\u001b[0m \u001b[1;36m8\u001b[0m\u001b[1;33m,\u001b[0m \u001b[1;36m1\u001b[0m\u001b[1;33m,\u001b[0m \u001b[1;36m9\u001b[0m\u001b[1;33m]\u001b[0m\u001b[1;33m\u001b[0m\u001b[0m\n\u001b[0;32m----> 2\u001b[0;31m \u001b[0mright_merge_sort\u001b[0m\u001b[1;33m(\u001b[0m\u001b[0mal\u001b[0m\u001b[1;33m)\u001b[0m\u001b[1;33m\u001b[0m\u001b[0m\n\u001b[0m\u001b[1;32m      3\u001b[0m \u001b[1;32mprint\u001b[0m \u001b[1;33m(\u001b[0m\u001b[0mal\u001b[0m\u001b[1;33m)\u001b[0m\u001b[1;33m\u001b[0m\u001b[0m\n",
      "\u001b[0;32m<ipython-input-76-c89f6e841585>\u001b[0m in \u001b[0;36mright_merge_sort\u001b[0;34m(alist)\u001b[0m\n\u001b[1;32m      6\u001b[0m         \u001b[0mRH\u001b[0m \u001b[1;33m=\u001b[0m \u001b[0malist\u001b[0m\u001b[1;33m[\u001b[0m\u001b[0mmid\u001b[0m\u001b[1;33m:\u001b[0m\u001b[1;33m]\u001b[0m\u001b[1;33m\u001b[0m\u001b[0m\n\u001b[1;32m      7\u001b[0m \u001b[1;33m\u001b[0m\u001b[0m\n\u001b[0;32m----> 8\u001b[0;31m         \u001b[0mright_merge_sort\u001b[0m\u001b[1;33m(\u001b[0m\u001b[0mLH\u001b[0m\u001b[1;33m)\u001b[0m\u001b[1;33m\u001b[0m\u001b[0m\n\u001b[0m\u001b[1;32m      9\u001b[0m         \u001b[0mright_merge_sort\u001b[0m\u001b[1;33m(\u001b[0m\u001b[0mRH\u001b[0m\u001b[1;33m)\u001b[0m\u001b[1;33m\u001b[0m\u001b[0m\n\u001b[1;32m     10\u001b[0m \u001b[1;33m\u001b[0m\u001b[0m\n",
      "\u001b[0;32m<ipython-input-76-c89f6e841585>\u001b[0m in \u001b[0;36mright_merge_sort\u001b[0;34m(alist)\u001b[0m\n\u001b[1;32m      6\u001b[0m         \u001b[0mRH\u001b[0m \u001b[1;33m=\u001b[0m \u001b[0malist\u001b[0m\u001b[1;33m[\u001b[0m\u001b[0mmid\u001b[0m\u001b[1;33m:\u001b[0m\u001b[1;33m]\u001b[0m\u001b[1;33m\u001b[0m\u001b[0m\n\u001b[1;32m      7\u001b[0m \u001b[1;33m\u001b[0m\u001b[0m\n\u001b[0;32m----> 8\u001b[0;31m         \u001b[0mright_merge_sort\u001b[0m\u001b[1;33m(\u001b[0m\u001b[0mLH\u001b[0m\u001b[1;33m)\u001b[0m\u001b[1;33m\u001b[0m\u001b[0m\n\u001b[0m\u001b[1;32m      9\u001b[0m         \u001b[0mright_merge_sort\u001b[0m\u001b[1;33m(\u001b[0m\u001b[0mRH\u001b[0m\u001b[1;33m)\u001b[0m\u001b[1;33m\u001b[0m\u001b[0m\n\u001b[1;32m     10\u001b[0m \u001b[1;33m\u001b[0m\u001b[0m\n",
      "\u001b[0;32m<ipython-input-76-c89f6e841585>\u001b[0m in \u001b[0;36mright_merge_sort\u001b[0;34m(alist)\u001b[0m\n\u001b[1;32m     30\u001b[0m             \u001b[0mj\u001b[0m\u001b[1;33m=\u001b[0m\u001b[0mj\u001b[0m\u001b[1;33m+\u001b[0m\u001b[1;36m1\u001b[0m\u001b[1;33m\u001b[0m\u001b[0m\n\u001b[1;32m     31\u001b[0m             \u001b[0mk\u001b[0m\u001b[1;33m=\u001b[0m\u001b[0mk\u001b[0m\u001b[1;33m+\u001b[0m\u001b[1;36m1\u001b[0m\u001b[1;33m\u001b[0m\u001b[0m\n\u001b[0;32m---> 32\u001b[0;31m         \u001b[1;32massert\u001b[0m \u001b[0minvariant\u001b[0m\u001b[1;33m(\u001b[0m\u001b[0malist\u001b[0m\u001b[1;33m,\u001b[0m \u001b[0moriginal_A\u001b[0m\u001b[1;33m)\u001b[0m\u001b[1;33m\u001b[0m\u001b[0m\n\u001b[0m\u001b[1;32m     33\u001b[0m \u001b[1;33m\u001b[0m\u001b[0m\n\u001b[1;32m     34\u001b[0m \u001b[1;33m\u001b[0m\u001b[0m\n",
      "\u001b[0;31mTypeError\u001b[0m: invariant() takes exactly 4 arguments (2 given)"
     ]
    }
   ],
   "source": [
    "al = [5, 4, 6, 3, 7, 2, 8, 1, 9]\n",
    "right_merge_sort(al)\n",
    "print (al)"
   ]
  },
  {
   "cell_type": "code",
   "execution_count": 41,
   "metadata": {
    "collapsed": true
   },
   "outputs": [],
   "source": [
    "def wrong_merge_sort(alist):\n",
    "    original_A=list(alist)\n",
    "    try:\n",
    "        if len(alist)>1:\n",
    "            mid = len(alist)//2\n",
    "            LH = alist[:mid]\n",
    "            RH = alist[mid:]\n",
    "\n",
    "            wrong_merge_sort(LH)\n",
    "            wrong_merge_sort(RH)\n",
    "\n",
    "            i=0\n",
    "            j=0\n",
    "            k=0\n",
    "            while i < len(LH) and j < len(RH):\n",
    "                if LH[i] > RH[j]:\n",
    "                    alist[k]=LH[i]\n",
    "                    i=i+1\n",
    "                else:\n",
    "                    alist[k]=RH[j]\n",
    "                    j=j+1\n",
    "                k=k+1\n",
    "\n",
    "            while i < len(LH):\n",
    "                alist[k]=LH[i]\n",
    "                i=i+1\n",
    "                k=k+1\n",
    "\n",
    "            while j < len(RH):\n",
    "                alist[k]=RH[j]\n",
    "                j=j+1\n",
    "                k=k+1\n",
    "            assert invariant(alist, original_A)\n",
    "            \n",
    "    except  AssertionError:\n",
    "        print (\"Error en invariante\")\n",
    "        print (\"j=\", i)\n",
    "        print (\"i=\", j)\n",
    "        print (\"A=\", alist)\n",
    "        print (\"O_A=\", original_A)"
   ]
  },
  {
   "cell_type": "code",
   "execution_count": 79,
   "metadata": {
    "collapsed": false
   },
   "outputs": [
    {
     "ename": "TypeError",
     "evalue": "invariant() takes exactly 4 arguments (2 given)",
     "output_type": "error",
     "traceback": [
      "\u001b[0;31m---------------------------------------------------------------------------\u001b[0m",
      "\u001b[0;31mTypeError\u001b[0m                                 Traceback (most recent call last)",
      "\u001b[0;32m<ipython-input-79-f7137dcf7ffc>\u001b[0m in \u001b[0;36m<module>\u001b[0;34m()\u001b[0m\n\u001b[1;32m      1\u001b[0m \u001b[0mal\u001b[0m \u001b[1;33m=\u001b[0m \u001b[1;33m[\u001b[0m\u001b[1;36m7\u001b[0m\u001b[1;33m,\u001b[0m\u001b[1;36m4\u001b[0m\u001b[1;33m,\u001b[0m\u001b[1;36m2\u001b[0m\u001b[1;33m,\u001b[0m\u001b[1;36m9\u001b[0m\u001b[1;33m]\u001b[0m\u001b[1;33m\u001b[0m\u001b[0m\n\u001b[0;32m----> 2\u001b[0;31m \u001b[0mwrong_merge_sort\u001b[0m\u001b[1;33m(\u001b[0m\u001b[0mal\u001b[0m\u001b[1;33m)\u001b[0m\u001b[1;33m\u001b[0m\u001b[0m\n\u001b[0m\u001b[1;32m      3\u001b[0m \u001b[1;32mprint\u001b[0m \u001b[1;33m(\u001b[0m\u001b[0mal\u001b[0m\u001b[1;33m)\u001b[0m\u001b[1;33m\u001b[0m\u001b[0m\n",
      "\u001b[0;32m<ipython-input-41-514b413c772c>\u001b[0m in \u001b[0;36mwrong_merge_sort\u001b[0;34m(alist)\u001b[0m\n\u001b[1;32m      7\u001b[0m             \u001b[0mRH\u001b[0m \u001b[1;33m=\u001b[0m \u001b[0malist\u001b[0m\u001b[1;33m[\u001b[0m\u001b[0mmid\u001b[0m\u001b[1;33m:\u001b[0m\u001b[1;33m]\u001b[0m\u001b[1;33m\u001b[0m\u001b[0m\n\u001b[1;32m      8\u001b[0m \u001b[1;33m\u001b[0m\u001b[0m\n\u001b[0;32m----> 9\u001b[0;31m             \u001b[0mwrong_merge_sort\u001b[0m\u001b[1;33m(\u001b[0m\u001b[0mLH\u001b[0m\u001b[1;33m)\u001b[0m\u001b[1;33m\u001b[0m\u001b[0m\n\u001b[0m\u001b[1;32m     10\u001b[0m             \u001b[0mwrong_merge_sort\u001b[0m\u001b[1;33m(\u001b[0m\u001b[0mRH\u001b[0m\u001b[1;33m)\u001b[0m\u001b[1;33m\u001b[0m\u001b[0m\n\u001b[1;32m     11\u001b[0m \u001b[1;33m\u001b[0m\u001b[0m\n",
      "\u001b[0;32m<ipython-input-41-514b413c772c>\u001b[0m in \u001b[0;36mwrong_merge_sort\u001b[0;34m(alist)\u001b[0m\n\u001b[1;32m     31\u001b[0m                 \u001b[0mj\u001b[0m\u001b[1;33m=\u001b[0m\u001b[0mj\u001b[0m\u001b[1;33m+\u001b[0m\u001b[1;36m1\u001b[0m\u001b[1;33m\u001b[0m\u001b[0m\n\u001b[1;32m     32\u001b[0m                 \u001b[0mk\u001b[0m\u001b[1;33m=\u001b[0m\u001b[0mk\u001b[0m\u001b[1;33m+\u001b[0m\u001b[1;36m1\u001b[0m\u001b[1;33m\u001b[0m\u001b[0m\n\u001b[0;32m---> 33\u001b[0;31m             \u001b[1;32massert\u001b[0m \u001b[0minvariant\u001b[0m\u001b[1;33m(\u001b[0m\u001b[0malist\u001b[0m\u001b[1;33m,\u001b[0m \u001b[0moriginal_A\u001b[0m\u001b[1;33m)\u001b[0m\u001b[1;33m\u001b[0m\u001b[0m\n\u001b[0m\u001b[1;32m     34\u001b[0m \u001b[1;33m\u001b[0m\u001b[0m\n\u001b[1;32m     35\u001b[0m     \u001b[1;32mexcept\u001b[0m  \u001b[0mAssertionError\u001b[0m\u001b[1;33m:\u001b[0m\u001b[1;33m\u001b[0m\u001b[0m\n",
      "\u001b[0;31mTypeError\u001b[0m: invariant() takes exactly 4 arguments (2 given)"
     ]
    }
   ],
   "source": [
    "al = [8,10,3,8]\n",
    "wrong_merge_sort(al)\n",
    "print (al)"
   ]
  },
  {
   "cell_type": "code",
   "execution_count": 43,
   "metadata": {
    "collapsed": true
   },
   "outputs": [],
   "source": [
    "class Counter:\n",
    "    '''\n",
    "    Class Counter\n",
    "    Implements a step counter, which is used to compute the number of basic operations performed in\n",
    "    a particular call to a function.\n",
    "    '''\n",
    "    def __init__(self):\n",
    "        self.steps = 0\n",
    "\n",
    "    def reset(self):\n",
    "        self.steps = 0\n",
    "\n",
    "    def count(self):\n",
    "        self.steps += 1\n",
    "\n",
    "    def print_steps(self):\n",
    "        print (\"Number of steps =\", self.steps)\n",
    "        \n",
    "\n",
    "def mergeSort_acct(alist,acct):\n",
    "    if len(alist)>1:\n",
    "        acct.count()   \n",
    "        mid = len(alist)//2;acct.count()   \n",
    "        LH = alist[:mid];acct.count()   \n",
    "        RH = alist[mid:];acct.count()   \n",
    "\n",
    "        mergeSort_acct(LH,acct);acct.count()   \n",
    "        mergeSort_acct(RH,acct);acct.count()   \n",
    "\n",
    "        i=0;acct.count()   \n",
    "        j=0;acct.count()   \n",
    "        k=0;acct.count()   \n",
    "        acct.count()   \n",
    "        while i < len(LH) and j < len(RH):\n",
    "            acct.count()   \n",
    "            if LH[i] < RH[j]:\n",
    "                acct.count()   \n",
    "                alist[k]=LH[i];acct.count()   \n",
    "                i=i+1;acct.count()   \n",
    "            else:\n",
    "                acct.count()   \n",
    "                alist[k]=RH[j];acct.count()   \n",
    "                j=j+1;acct.count()   \n",
    "            k=k+1;acct.count()   \n",
    "        acct.count()   \n",
    "        while i < len(LH):\n",
    "            acct.count()   \n",
    "            alist[k]=LH[i];acct.count()   \n",
    "            i=i+1;acct.count()   \n",
    "            k=k+1;acct.count()   \n",
    "        acct.count()   \n",
    "        while j < len(RH):\n",
    "            acct.count()   \n",
    "            alist[k]=RH[j];acct.count()   \n",
    "            j=j+1;acct.count()   \n",
    "            k=k+1;acct.count()   \n",
    "            "
   ]
  },
  {
   "cell_type": "code",
   "execution_count": 44,
   "metadata": {
    "collapsed": false
   },
   "outputs": [
    {
     "name": "stdout",
     "output_type": "stream",
     "text": [
      "('Number of steps =', 195)\n"
     ]
    }
   ],
   "source": [
    "al=[5,4,3,12,24,13,9,2]\n",
    "acct = Counter()\n",
    "mergeSort_acct(al,acct)\n",
    "acct.print_steps()"
   ]
  },
  {
   "cell_type": "code",
   "execution_count": 45,
   "metadata": {
    "collapsed": true
   },
   "outputs": [],
   "source": [
    "import random\n",
    "\n",
    "def exper_analysis(n):\n",
    "    results = []\n",
    "    acct = Counter()\n",
    "    for i in range(n):\n",
    "        l = list(range(i))\n",
    "        random.shuffle(l)\n",
    "        acct.reset()\n",
    "        mergeSort_acct(l,acct)\n",
    "        results.append(acct.steps)\n",
    "    return results"
   ]
  },
  {
   "cell_type": "code",
   "execution_count": 46,
   "metadata": {
    "collapsed": false
   },
   "outputs": [
    {
     "name": "stdout",
     "output_type": "stream",
     "text": [
      "[0, 0, 21, 47, 72, 103, 132, 162, 195, 233]\n"
     ]
    }
   ],
   "source": [
    "print (exper_analysis(10))"
   ]
  },
  {
   "cell_type": "code",
   "execution_count": 47,
   "metadata": {
    "collapsed": true
   },
   "outputs": [],
   "source": [
    "import time\n",
    "tic = time.clock()#get start time\n",
    "tfc = time.clock()#get final time\n",
    "def timer_analysis(n):\n",
    "    results = []\n",
    "    acct = Counter()\n",
    "    for i in range(n):\n",
    "        l = list(range(i))\n",
    "        random.shuffle(l)\n",
    "        acct.reset()\n",
    "        tic = time.clock()\n",
    "        mergeSort_acct(l,acct)\n",
    "        tfc = time.clock()\n",
    "        results.append((tfc-tic))\n",
    "    return results"
   ]
  },
  {
   "cell_type": "code",
   "execution_count": 81,
   "metadata": {
    "collapsed": false
   },
   "outputs": [
    {
     "data": {
      "image/png": "[encoded data removed]",
      "text/plain": [
       "<matplotlib.figure.Figure at 0x8bb1320>"
      ]
     },
     "metadata": {},
     "output_type": "display_data"
    }
   ],
   "source": [
    "import pylab \n",
    "import math\n",
    "import numpy as np\n",
    "pylab.clf()\n",
    "x = np.arange(150)\n",
    "y = np.array(timer_analysis(150))*1000000\n",
    "\n",
    "a = np.arange(150)\n",
    "b = np.array(exper_analysis(150))\n",
    "\n",
    "c = np.arange(1,150)\n",
    "d = c*(np.log(c))*2\n",
    "\n",
    "pylab.plot(x, y, 'r--',a,b,'b-',c,d,'k-')\n",
    "pylab.show()"
   ]
  },
  {
   "cell_type": "code",
   "execution_count": null,
   "metadata": {
    "collapsed": true
   },
   "outputs": [],
   "source": []
  }
 ],
 "metadata": {
  "kernelspec": {
   "display_name": "Python [default]",
   "language": "python",
   "name": "python2"
  },
  "language_info": {
   "codemirror_mode": {
    "name": "ipython",
    "version": 2
   },
   "file_extension": ".py",
   "mimetype": "text/x-python",
   "name": "python",
   "nbconvert_exporter": "python",
   "pygments_lexer": "ipython2",
   "version": "2.7.12"
  }
 },
 "nbformat": 4,
 "nbformat_minor": 1
}
