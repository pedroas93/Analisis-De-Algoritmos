{
 "cells": [
  {
   "cell_type": "code",
   "execution_count": 42,
   "metadata": {
    "collapsed": true
   },
   "outputs": [],
   "source": [
    "import math\n",
    "import numpy as np\n",
    "import pylab as pl\n",
    "import random as rnd\n",
    "import time\n",
    "%matplotlib inline\n",
    "import matplotlib.pyplot as pl\n",
    "%matplotlib inline"
   ]
  },
  {
   "cell_type": "code",
   "execution_count": 43,
   "metadata": {
    "collapsed": true
   },
   "outputs": [],
   "source": [
    "class Counter:\n",
    "    '''\n",
    "    Class Counter\n",
    "    Implements a step counter, which is used to compute the number of basic operations performed in\n",
    "    a particular call to a function.\n",
    "    '''\n",
    "    def __init__(self):\n",
    "        self.steps = 0\n",
    "\n",
    "    def reset(self):\n",
    "        self.steps = 0\n",
    "\n",
    "    def count(self):\n",
    "        self.steps += 1\n",
    "\n",
    "    def print_steps(self):\n",
    "        print \"Number of steps =\", self.steps"
   ]
  },
  {
   "cell_type": "code",
   "execution_count": 9,
   "metadata": {
    "collapsed": true
   },
   "outputs": [],
   "source": [
    "def matrixM(A, B):\n",
    "    assert len(A) == len(A[0]) \n",
    "    assert len(B) == len(B[0]) \n",
    "    assert len(A) == len(B)\n",
    "    size = len(A)\n",
    "    C = np.zeros((size, size))\n",
    "    for i in range(size):\n",
    "        for j in range(size):\n",
    "            for k in range(size):\n",
    "                C[i][j] += A[i][k] * B [k][j]\n",
    "    return C"
   ]
  },
  {
   "cell_type": "code",
   "execution_count": 10,
   "metadata": {
    "collapsed": false
   },
   "outputs": [
    {
     "name": "stdout",
     "output_type": "stream",
     "text": [
      "[[8 1 8 6 1]\n",
      " [4 6 1 0 4]\n",
      " [4 7 3 0 1]\n",
      " [6 9 5 3 4]\n",
      " [9 8 0 7 0]]\n",
      "\n",
      "[[6 4 8 7 3]\n",
      " [7 4 6 9 0]\n",
      " [1 2 8 9 6]\n",
      " [6 2 5 9 6]\n",
      " [9 0 7 3 7]]\n",
      "\n",
      "[[ 108.   64.  171.  194.  115.]\n",
      " [ 103.   42.  104.  103.   46.]\n",
      " [  85.   50.  105.  121.   37.]\n",
      " [ 158.   76.  185.  207.   94.]\n",
      " [ 152.   82.  155.  198.   69.]]\n"
     ]
    }
   ],
   "source": [
    "\n",
    "A = np.random.randint(10, size = (5,5))\n",
    "B = np.random.randint(10, size = (5,5))\n",
    "print A\n",
    "print \"\"\n",
    "print B\n",
    "print \"\"\n",
    "C = matrixM(A, B)\n",
    "print C"
   ]
  },
  {
   "cell_type": "code",
   "execution_count": 22,
   "metadata": {
    "collapsed": true
   },
   "outputs": [],
   "source": [
    "def matrixAdicion(A, B):\n",
    "    assert len(A) == len(B)\n",
    "    assert len(A[0]) == len(B[0])\n",
    "    C = np.zeros((len(A), len(A[0])))\n",
    "    for i in range(len(A)):\n",
    "        for j in range(len(A[0])):\n",
    "            C[i][j] = A[i][j] + B[i][j]\n",
    "    return C"
   ]
  },
  {
   "cell_type": "code",
   "execution_count": 23,
   "metadata": {
    "collapsed": true
   },
   "outputs": [],
   "source": [
    "def matrixM(A, B):\n",
    "    assert len(A) == len(A[0])\n",
    "    assert len(B) == len(B[0])\n",
    "    assert len(A) == len(B)\n",
    "    if len(A) % 2 == 0 and len(A[0]) % 2 == 0 and len(A) > 2:\n",
    "        # Creating submatrices\n",
    "        mid = len(A)/2\n",
    "        end = len(A)\n",
    "        a = A[0:mid, 0:mid]\n",
    "        b = A[0:mid, mid:end]\n",
    "        c = A[mid:end, 0:mid]\n",
    "        d = A[mid:end, mid:end]\n",
    "        e = B[0:mid, 0:mid]\n",
    "        f = B[0:mid, mid:end]\n",
    "        g = B[mid:end, 0:mid]\n",
    "        h = B[mid:end, mid:end]\n",
    "        # Multiplying smaller submatrices\n",
    "        ae = matrixM(a, e)\n",
    "        bg = matrixM(b, g)\n",
    "        af = matrixM(a, f)\n",
    "        bh = matrixM(b, h)\n",
    "        ce = matrixM(c, e)\n",
    "        dg = matrixM(d, g)\n",
    "        cf = matrixM(c, f)\n",
    "        dh = matrixM(d, h)\n",
    "        # Adding multiplications\n",
    "        Cul = matrixAdicion(ae, bg)\n",
    "        Cur = matrixAdicion(af, bh)\n",
    "        Cdl = matrixAdicion(ce, dg)\n",
    "        Cdr = matrixAdicion(cf, dh)\n",
    "        # Composing matrix\n",
    "        Cu = np.c_[Cul,Cur]\n",
    "        Cd = np.c_[Cdl,Cdr]\n",
    "        C = np.r_[Cu, Cd]\n",
    "        return C      \n",
    "    else:\n",
    "        return matrixMultiply(A, B)"
   ]
  },
  {
   "cell_type": "code",
   "execution_count": 25,
   "metadata": {
    "collapsed": false
   },
   "outputs": [
    {
     "name": "stdout",
     "output_type": "stream",
     "text": [
      "[[1 2 0 4 0]\n",
      " [5 0 0 4 7]\n",
      " [3 1 8 3 2]\n",
      " [7 7 9 6 5]\n",
      " [9 6 4 2 3]]\n",
      "\n",
      "[[7 7 8 6 5]\n",
      " [7 1 7 4 9]\n",
      " [7 4 1 0 8]\n",
      " [0 1 1 5 9]\n",
      " [6 8 8 6 5]]\n",
      "\n",
      "[[  21.   13.   26.   34.   59.]\n",
      " [  77.   95.  100.   92.   96.]\n",
      " [  96.   73.   58.   49.  125.]\n",
      " [ 191.  138.  160.  130.  249.]\n",
      " [ 151.  111.  144.  106.  164.]]\n",
      "\n",
      "[[  21.   13.   26.   34.   59.]\n",
      " [  77.   95.  100.   92.   96.]\n",
      " [  96.   73.   58.   49.  125.]\n",
      " [ 191.  138.  160.  130.  249.]\n",
      " [ 151.  111.  144.  106.  164.]]\n"
     ]
    }
   ],
   "source": [
    "A = np.random.randint(10, size = (5,5))\n",
    "B = np.random.randint(10, size = (5,5))\n",
    "print A\n",
    "print \"\"\n",
    "print B\n",
    "print \"\"\n",
    "C1 = matrixM(A, B)\n",
    "C2 = matrixM(A, B)\n",
    "print C1\n",
    "print \"\"\n",
    "print C2"
   ]
  },
  {
   "cell_type": "code",
   "execution_count": 26,
   "metadata": {
    "collapsed": false
   },
   "outputs": [
    {
     "ename": "SyntaxError",
     "evalue": "invalid syntax (<ipython-input-26-2bbcd32bebeb>, line 1)",
     "output_type": "error",
     "traceback": [
      "\u001b[0;36m  File \u001b[0;32m\"<ipython-input-26-2bbcd32bebeb>\"\u001b[0;36m, line \u001b[0;32m1\u001b[0m\n\u001b[0;31m    <h>3. Algoritmo de Strassen</h>\u001b[0m\n\u001b[0m    ^\u001b[0m\n\u001b[0;31mSyntaxError\u001b[0m\u001b[0;31m:\u001b[0m invalid syntax\n"
     ]
    }
   ],
   "source": [
    "<h>3. Algoritmo de Strassen</h>"
   ]
  },
  {
   "cell_type": "code",
   "execution_count": 47,
   "metadata": {
    "collapsed": true
   },
   "outputs": [],
   "source": [
    "def new_m(p, q, acct):\n",
    "    matrix = [[0 for row in range(p)] for col in range(q)]; acct.count()\n",
    "    return matrix\n",
    "\n",
    "def add_m(a, b, acct):\n",
    "    if type(a) == int:\n",
    "        acct.count()\n",
    "        d = a + b; acct.count()\n",
    "    else:\n",
    "        acct.count()\n",
    "        d = []; acct.count()\n",
    "        for i in range(len(a)):\n",
    "            acct.count()\n",
    "            c = []; acct.count()\n",
    "            for j in range(len(a[0])):\n",
    "                acct.count()\n",
    "                c.append(a[i][j] + b[i][j]); acct.count()\n",
    "            d.append(c)\n",
    "    return d\n",
    "\n",
    "def sub_m(a, b, acct):\n",
    "    if type(a) == int:\n",
    "        acct.count()\n",
    "        d = a - b; acct.count()\n",
    "    else:\n",
    "        d = []; acct.count()\n",
    "        for i in range(len(a)):\n",
    "            acct.count()\n",
    "            c = []; acct.count()\n",
    "            for j in range(len(a[0])):\n",
    "                acct.count()\n",
    "                c.append(a[i][j] - b[i][j]); acct.count()\n",
    "            d.append(c)\n",
    "    return d\n",
    "\n",
    "def strassen(a, b, q, acct):\n",
    "    # base case: 1x1 matrix\n",
    "    if q == 1:\n",
    "        acct.count()\n",
    "        d = [[0]]; acct.count()\n",
    "        d[0][0] = a[0][0] * b[0][0]; acct.count()\n",
    "        return d\n",
    "    else:\n",
    "        acct.count()\n",
    "        #split matrices into quarters\n",
    "        a11, a12, a21, a22 = split(a, acct);  acct.count()\n",
    "        b11, b12, b21, b22 = split(b, acct);  acct.count()\n",
    "\n",
    "        # p1 = (a11+a22) * (b11+b22)\n",
    "        p1 = strassen(add_m(a11,a22, acct), add_m(b11,b22, acct), q/2, acct);  acct.count()\n",
    "        # p2 = (a21+a22) * b11\n",
    "        p2 = strassen(add_m(a21,a22, acct), b11, q/2, acct);  acct.count()\n",
    "        # p3 = a11 * (b12-b22)\n",
    "        p3 = strassen(a11, sub_m(b12,b22, acct), q/2, acct);  acct.count()\n",
    "        # p4 = a22 * (b12-b11)\n",
    "        p4 = strassen(a22, sub_m(b21,b11, acct), q/2, acct);  acct.count()\n",
    "        # p5 = (a11+a12) * b22\n",
    "        p5 = strassen(add_m(a11,a12, acct), b22, q/2, acct);  acct.count()\n",
    "        # p6 = (a21-a11) * (b11+b12)\n",
    "        p6 = strassen(sub_m(a21,a11, acct), add_m(b11,b12, acct), q/2, acct);  acct.count()\n",
    "        # p7 = (a12-a22) * (b21+b22)\n",
    "        p7 = strassen(sub_m(a12,a22, acct), add_m(b21,b22, acct), q/2, acct);  acct.count()\n",
    "\n",
    "        # c11 = p1 + p4 - p5 + p7\n",
    "        c11 = add_m(sub_m(add_m(p1, p4, acct), p5, acct), p7, acct);  acct.count()\n",
    "        # c12 = p3 + p5\n",
    "        c12 = add_m(p3, p5, acct);  acct.count()\n",
    "        # c21 = p2 + p4\n",
    "        c21 = add_m(p2, p4, acct);  acct.count()\n",
    "        # c22 = p1 + p3 - p2 + p6\n",
    "        c22 = add_m(sub_m(add_m(p1, p3, acct), p2, acct), p6, acct);  acct.count()\n",
    "\n",
    "        c = new_m(len(c11)*2,len(c11)*2, acct);  acct.count()\n",
    "        for i in range(len(c11)):\n",
    "            acct.count()\n",
    "            for j in range(len(c11)):\n",
    "                acct.count()\n",
    "                c[i][j]                   = c11[i][j];  acct.count()\n",
    "                c[i][j+len(c11)]          = c12[i][j];  acct.count()\n",
    "                c[i+len(c11)][j]          = c21[i][j];  acct.count()\n",
    "                c[i+len(c11)][j+len(c11)] = c22[i][j];  acct.count()\n",
    "\n",
    "        return c"
   ]
  },
  {
   "cell_type": "code",
   "execution_count": 51,
   "metadata": {
    "collapsed": false
   },
   "outputs": [],
   "source": [
    "def matrixSubstract(A, B):\n",
    "    assert len(A) == len(B) \n",
    "    assert len(A[0]) == len(B[0])\n",
    "    C = np.zeros((len(A), len(A[0])))\n",
    "    for i in range(len(A)):\n",
    "        for j in range(len(A[0])):\n",
    "            C[i][j] = A[i][j] - B[i][j]\n",
    "    return C"
   ]
  },
  {
   "cell_type": "code",
   "execution_count": 52,
   "metadata": {
    "collapsed": true
   },
   "outputs": [],
   "source": [
    "def matrixStrassen(A, B):\n",
    "    assert len(A) == len(A[0])\n",
    "    assert len(B) == len(B[0])\n",
    "    assert len(A) == len(B)\n",
    "    if len(A) % 2 == 0 and len(A[0]) % 2 == 0 and len(A) > 2:\n",
    "        # Creating submatrices\n",
    "        mid = len(A)/2\n",
    "        end = len(A)\n",
    "        a = A[0:mid, 0:mid]\n",
    "        b = A[0:mid, mid:end]\n",
    "        c = A[mid:end, 0:mid]\n",
    "        d = A[mid:end, mid:end]\n",
    "        e = B[0:mid, 0:mid]\n",
    "        f = B[0:mid, mid:end]\n",
    "        g = B[mid:end, 0:mid]\n",
    "        h = B[mid:end, mid:end]\n",
    "        # Strassen Ps\n",
    "        P1 = matrixStrassen(a, matrixSubstract(f, h))\n",
    "        P2 = matrixStrassen(matrixAdd(a, b), h)\n",
    "        P3 = matrixStrassen(matrixAdd(c, d), e)\n",
    "        P4 = matrixStrassen(d, matrixSubstract(g, e))\n",
    "        P5 = matrixStrassen(matrixAdd(a, d), matrixAdd(e, h))\n",
    "        P6 = matrixStrassen(matrixSubstract(b, d), matrixAdd(g, h))\n",
    "        P7 = matrixStrassen(matrixSubstract(a, c), matrixAdd(e, f))\n",
    "        # Computing Ps\n",
    "        Cul = matrixAdd(matrixSubstract(matrixAdd(P5, P4), P2), P6)\n",
    "        Cur = matrixAdd(P1, P2)\n",
    "        Cdl = matrixAdd(P3, P4)\n",
    "        Cdr = matrixSubstract(matrixSubstract(matrixAdd(P1, P5), P3), P7)\n",
    "        # Composing matrix\n",
    "        Cu = np.c_[Cul,Cur]\n",
    "        Cd = np.c_[Cdl,Cdr]\n",
    "        C = np.r_[Cu, Cd]\n",
    "        return C    \n",
    "    else:\n",
    "        return matrixMultiply(A, B)"
   ]
  },
  {
   "cell_type": "code",
   "execution_count": 53,
   "metadata": {
    "collapsed": false
   },
   "outputs": [
    {
     "name": "stdout",
     "output_type": "stream",
     "text": [
      "[[5 8 3 8]\n",
      " [6 1 0 5]\n",
      " [8 3 7 5]\n",
      " [7 1 0 0]]\n",
      "\n",
      "[[0 5 0 7]\n",
      " [1 4 2 8]\n",
      " [5 2 7 0]\n",
      " [7 3 7 6]]\n",
      "\n",
      "[[  79.   87.   93.  147.]\n",
      " [  36.   49.   37.   80.]\n",
      " [  73.   81.   90.  110.]\n",
      " [   1.   39.    2.   57.]]\n",
      "\n",
      "[[  79.   87.   93.  147.]\n",
      " [  36.   49.   37.   80.]\n",
      " [  73.   81.   90.  110.]\n",
      " [   1.   39.    2.   57.]]\n"
     ]
    }
   ],
   "source": [
    "A = np.random.randint(9, size = (4,4))\n",
    "B = np.random.randint(9, size = (4,4))\n",
    "print A\n",
    "print \"\"\n",
    "print B\n",
    "print \"\"\n",
    "C1 = matrixMultiply(A, B)\n",
    "C2 = matrixStrassen(A, B)\n",
    "print C1\n",
    "print \"\"\n",
    "print C2"
   ]
  },
  {
   "cell_type": "code",
   "execution_count": 54,
   "metadata": {
    "collapsed": true
   },
   "outputs": [],
   "source": [
    "class Counter:\n",
    "    def __init__(self):\n",
    "        self.steps = 0\n",
    "\n",
    "    def reset(self):\n",
    "        self.steps = 0\n",
    "\n",
    "    def count(self):\n",
    "        self.steps += 1\n",
    "\n",
    "    def print_steps(self):\n",
    "        print \"Number of steps =\", self.steps"
   ]
  },
  {
   "cell_type": "code",
   "execution_count": 55,
   "metadata": {
    "collapsed": true
   },
   "outputs": [],
   "source": [
    "def acctMatrixMultiply(A, B, acct):\n",
    "    assert len(A) == len(A[0]); acct.count()\n",
    "    assert len(B) == len(B[0]); acct.count()\n",
    "    assert len(A) == len(B); acct.count()\n",
    "    size = len(A); acct.count()\n",
    "    C = np.zeros((size, size)); acct.count()\n",
    "    acct.count()\n",
    "    for i in range(size):\n",
    "        acct.count()\n",
    "        for j in range(size):\n",
    "            acct.count()\n",
    "            for k in range(size):\n",
    "                acct.count()\n",
    "                C[i][j] += A[i][k] * B [k][j]; acct.count()\n",
    "    return C\n"
   ]
  },
  {
   "cell_type": "code",
   "execution_count": 56,
   "metadata": {
    "collapsed": true
   },
   "outputs": [],
   "source": [
    "def acctMatrixAdd(A, B, acct):\n",
    "    assert len(A) == len(B); acct.count()\n",
    "    assert len(A[0]) == len(B[0]); acct.count()\n",
    "    C = np.zeros((len(A), len(A[0]))); acct.count()\n",
    "    acct.count()\n",
    "    for i in range(len(A)):\n",
    "        acct.count()\n",
    "        for j in range(len(A[0])):\n",
    "            acct.count()\n",
    "            C[i][j] = A[i][j] + B[i][j]; acct.count()\n",
    "    return C"
   ]
  },
  {
   "cell_type": "code",
   "execution_count": 57,
   "metadata": {
    "collapsed": true
   },
   "outputs": [],
   "source": [
    "def acctMatrixMultiplyDC(A, B, acct):\n",
    "    assert len(A) == len(A[0]); acct.count()\n",
    "    assert len(B) == len(B[0]); acct.count()\n",
    "    assert len(A) == len(B); acct.count()\n",
    "    acct.count()\n",
    "    if len(A) % 2 == 0 and len(A[0]) % 2 == 0 and len(A) > 2:\n",
    "        acct.count()\n",
    "        # Creating submatrices\n",
    "        mid = len(A)/2; acct.count()\n",
    "        end = len(A); acct.count()\n",
    "        a = A[0:mid, 0:mid]; acct.count()\n",
    "        b = A[0:mid, mid:end]; acct.count()\n",
    "        c = A[mid:end, 0:mid]; acct.count()\n",
    "        d = A[mid:end, mid:end]; acct.count()\n",
    "        e = B[0:mid, 0:mid]; acct.count()\n",
    "        f = B[0:mid, mid:end]; acct.count()\n",
    "        g = B[mid:end, 0:mid]; acct.count()\n",
    "        h = B[mid:end, mid:end]; acct.count()\n",
    "        # Multiplying smaller submatrices\n",
    "        ae = acctMatrixMultiplyDC(a, e, acct); acct.count()\n",
    "        bg = acctMatrixMultiplyDC(b, g, acct); acct.count()\n",
    "        af = acctMatrixMultiplyDC(a, f, acct); acct.count()\n",
    "        bh = acctMatrixMultiplyDC(b, h, acct); acct.count()\n",
    "        ce = acctMatrixMultiplyDC(c, e, acct); acct.count()\n",
    "        dg = acctMatrixMultiplyDC(d, g, acct); acct.count()\n",
    "        cf = acctMatrixMultiplyDC(c, f, acct); acct.count()\n",
    "        dh = acctMatrixMultiplyDC(d, h, acct); acct.count()\n",
    "        # Adding multiplications\n",
    "        Cul = acctMatrixAdd(ae, bg, acct); acct.count()\n",
    "        Cur = acctMatrixAdd(af, bh, acct); acct.count()\n",
    "        Cdl = acctMatrixAdd(ce, dg, acct); acct.count()\n",
    "        Cdr = acctMatrixAdd(cf, dh, acct); acct.count()\n",
    "        # Composing matrix\n",
    "        Cu = np.c_[Cul,Cur]; acct.count()\n",
    "        Cd = np.c_[Cdl,Cdr]; acct.count()\n",
    "        C = np.r_[Cu, Cd]; acct.count()\n",
    "        return C      \n",
    "    else:\n",
    "        return acctMatrixMultiply(A, B, acct)"
   ]
  },
  {
   "cell_type": "code",
   "execution_count": 58,
   "metadata": {
    "collapsed": true
   },
   "outputs": [],
   "source": [
    "def acctMatrixSubstract(A, B, acct):\n",
    "    assert len(A) == len(B); acct.count()\n",
    "    assert len(A[0]) == len(B[0]); acct.count()\n",
    "    C = np.zeros((len(A), len(A[0]))); acct.count()\n",
    "    acct.count()\n",
    "    for i in range(len(A)):\n",
    "        acct.count()\n",
    "        for j in range(len(A[0])):\n",
    "            acct.count()\n",
    "            C[i][j] = A[i][j] - B[i][j]; acct.count()\n",
    "    return C"
   ]
  },
  {
   "cell_type": "code",
   "execution_count": 59,
   "metadata": {
    "collapsed": true
   },
   "outputs": [],
   "source": [
    "def acctMatrixStrassen(A, B, acct):\n",
    "    assert len(A) == len(A[0]); acct.count()\n",
    "    assert len(B) == len(B[0]); acct.count()\n",
    "    assert len(A) == len(B); acct.count()\n",
    "    acct.count()\n",
    "    if len(A) % 2 == 0 and len(A[0]) % 2 == 0 and len(A) > 2:\n",
    "        acct.count()\n",
    "        # Creating submatrices\n",
    "        mid = len(A)/2; acct.count()\n",
    "        end = len(A); acct.count()\n",
    "        a = A[0:mid, 0:mid]; acct.count()\n",
    "        b = A[0:mid, mid:end]; acct.count()\n",
    "        c = A[mid:end, 0:mid]; acct.count()\n",
    "        d = A[mid:end, mid:end]; acct.count()\n",
    "        e = B[0:mid, 0:mid]; acct.count()\n",
    "        f = B[0:mid, mid:end]; acct.count()\n",
    "        g = B[mid:end, 0:mid]; acct.count()\n",
    "        h = B[mid:end, mid:end]; acct.count()\n",
    "        # Strassen Ps\n",
    "        P1 = acctMatrixStrassen(a, acctMatrixSubstract(f, h, acct), acct); acct.count()\n",
    "        P2 = acctMatrixStrassen(acctMatrixAdd(a, b, acct), h, acct); acct.count()\n",
    "        P3 = acctMatrixStrassen(acctMatrixAdd(c, d, acct), e, acct); acct.count()\n",
    "        P4 = acctMatrixStrassen(d, acctMatrixSubstract(g, e, acct), acct); acct.count()\n",
    "        P5 = acctMatrixStrassen(acctMatrixAdd(a, d, acct), acctMatrixAdd(e, h, acct), acct); acct.count()\n",
    "        P6 = acctMatrixStrassen(acctMatrixSubstract(b, d, acct), acctMatrixAdd(g, h, acct), acct); acct.count()\n",
    "        P7 = acctMatrixStrassen(acctMatrixSubstract(a, c, acct), acctMatrixAdd(e, f, acct), acct); acct.count()\n",
    "        # Computing Ps\n",
    "        Cul = acctMatrixAdd(acctMatrixSubstract(acctMatrixAdd(P5, P4, acct), P2, acct), P6, acct); acct.count()\n",
    "        Cur = acctMatrixAdd(P1, P2, acct); acct.count()\n",
    "        Cdl = acctMatrixAdd(P3, P4, acct); acct.count()\n",
    "        Cdr = acctMatrixSubstract(acctMatrixSubstract(acctMatrixAdd(P1, P5, acct), P3, acct), P7, acct); acct.count()\n",
    "        # Composing matrix\n",
    "        Cu = np.c_[Cul,Cur]; acct.count()\n",
    "        Cd = np.c_[Cdl,Cdr]; acct.count()\n",
    "        C = np.r_[Cu, Cd]; acct.count()\n",
    "        return C    \n",
    "    else:\n",
    "        return acctMatrixMultiply(A, B, acct)"
   ]
  },
  {
   "cell_type": "code",
   "execution_count": null,
   "metadata": {
    "collapsed": true
   },
   "outputs": [],
   "source": [
    "Multiplicacion normal : Negro\n",
    "Rojo: Dividir y conquistar\n",
    "Azul: Strassen"
   ]
  },
  {
   "cell_type": "code",
   "execution_count": 62,
   "metadata": {
    "collapsed": false
   },
   "outputs": [
    {
     "data": {
      "text/plain": [
       "[<matplotlib.lines.Line2D at 0x7e935f8>,\n",
       " <matplotlib.lines.Line2D at 0x7e936d8>,\n",
       " <matplotlib.lines.Line2D at 0x7e93cf8>]"
      ]
     },
     "execution_count": 62,
     "metadata": {},
     "output_type": "execute_result"
    },
    {
     "data": {
      "image/png": "[encoded data removed]",
      "text/plain": [
       "<matplotlib.figure.Figure at 0x7bd14e0>"
      ]
     },
     "metadata": {},
     "output_type": "display_data"
    }
   ],
   "source": [
    "pl.clf()\n",
    "multiplyResults = []\n",
    "multiplyDCResults = []\n",
    "strassenResults = []\n",
    "x = np.arange(3,103,5)\n",
    "acct = Counter()\n",
    "\n",
    "for i in x:\n",
    "    A = np.random.randint(10,size=(i,i))\n",
    "    B = np.random.randint(10,size=(i,i))\n",
    "    acct.reset()\n",
    "    acctMatrixMultiply(A, B, acct)\n",
    "    multiplyResults.append(acct.steps)\n",
    "    acct.reset()\n",
    "    acctMatrixMultiplyDC(A, B, acct)\n",
    "    multiplyDCResults.append(acct.steps)\n",
    "    acct.reset()\n",
    "    acctMatrixStrassen(A, B, acct)\n",
    "    strassenResults.append(acct.steps)\n",
    "\n",
    "y1 = np.array(multiplyResults)\n",
    "y2= np.array(multiplyDCResults)\n",
    "y3 = np.array(strassenResults)\n",
    "pl.plot(x, y1, 'k.', x, y2, 'r.', x, y3, 'b.')"
   ]
  },
  {
   "cell_type": "code",
   "execution_count": null,
   "metadata": {
    "collapsed": true
   },
   "outputs": [],
   "source": [
    "En tiempo de Ejecución"
   ]
  },
  {
   "cell_type": "code",
   "execution_count": 64,
   "metadata": {
    "collapsed": false
   },
   "outputs": [
    {
     "data": {
      "text/plain": [
       "[<matplotlib.lines.Line2D at 0x7f12d68>,\n",
       " <matplotlib.lines.Line2D at 0x7f12e48>,\n",
       " <matplotlib.lines.Line2D at 0x7f214a8>]"
      ]
     },
     "execution_count": 64,
     "metadata": {},
     "output_type": "execute_result"
    },
    {
     "data": {
      "image/png": "[encoded data removed]",
      "text/plain": [
       "<matplotlib.figure.Figure at 0x80b9668>"
      ]
     },
     "metadata": {},
     "output_type": "display_data"
    }
   ],
   "source": [
    "pl.clf()\n",
    "multiplyResults = []\n",
    "multiplyDCResults = []\n",
    "strassenResults = []\n",
    "x = np.arange(3,103,5)\n",
    "\n",
    "for i in x:\n",
    "    A = np.random.randint(9,size=(i,i))\n",
    "    B = np.random.randint(9,size=(i,i))\n",
    "    tic = time.clock() #get start time\n",
    "    matrixMultiply(A, B)\n",
    "    toc = time.clock() #get end time\n",
    "    multiplyResults.append(toc-tic)\n",
    "    \n",
    "    tic = time.clock() #get start time\n",
    "    matrixMultiplyDC(A, B)\n",
    "    toc = time.clock() #get end time\n",
    "    multiplyDCResults.append(toc-tic)\n",
    "    \n",
    "    tic = time.clock() #get start time \n",
    "    matrixStrassen(A, B)\n",
    "    toc = time.clock() #get end time\n",
    "    strassenResults.append(toc-tic)\n",
    "\n",
    "y1 = np.array(multiplyResults)\n",
    "y2= np.array(multiplyDCResults)\n",
    "y3 = np.array(strassenResults)\n",
    "pl.plot(x, y1, 'k.', x, y2, 'r.', x, y3, 'b.')"
   ]
  },
  {
   "cell_type": "code",
   "execution_count": null,
   "metadata": {
    "collapsed": true
   },
   "outputs": [],
   "source": []
  }
 ],
 "metadata": {
  "kernelspec": {
   "display_name": "Python [default]",
   "language": "python",
   "name": "python2"
  },
  "language_info": {
   "codemirror_mode": {
    "name": "ipython",
    "version": 2
   },
   "file_extension": ".py",
   "mimetype": "text/x-python",
   "name": "python",
   "nbconvert_exporter": "python",
   "pygments_lexer": "ipython2",
   "version": "2.7.12"
  }
 },
 "nbformat": 4,
 "nbformat_minor": 1
}
